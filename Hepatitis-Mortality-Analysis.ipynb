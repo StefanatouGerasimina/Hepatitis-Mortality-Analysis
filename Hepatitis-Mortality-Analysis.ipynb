{
 "cells": [
  {
   "cell_type": "markdown",
   "metadata": {},
   "source": [
    "# Hepatitis Mortality Analysis"
   ]
  },
  {
   "cell_type": "markdown",
   "metadata": {},
   "source": [
    "## Data Preprocessing "
   ]
  },
  {
   "cell_type": "code",
   "execution_count": 1,
   "metadata": {},
   "outputs": [],
   "source": [
    "import warnings\n",
    "warnings.filterwarnings(\"ignore\")"
   ]
  },
  {
   "cell_type": "code",
   "execution_count": 2,
   "metadata": {},
   "outputs": [],
   "source": [
    "import matplotlib.pyplot as plt\n",
    "import seaborn as sns\n",
    "import pandas as pd\n",
    "import numpy as np"
   ]
  },
  {
   "cell_type": "code",
   "execution_count": 3,
   "metadata": {},
   "outputs": [
    {
     "data": {
      "text/plain": [
       "class                int64\n",
       "age                  int64\n",
       "sex                  int64\n",
       "steroid              int32\n",
       "antivirals           int64\n",
       "fatigue              int32\n",
       "malaise              int32\n",
       "anorexia             int32\n",
       "liver_big            int32\n",
       "liver_firm           int32\n",
       "spleen_palpable      int32\n",
       "spiders              int32\n",
       "ascites              int32\n",
       "varices              int32\n",
       "bilirubin          float64\n",
       "alk_phosphate        int32\n",
       "sgot                 int32\n",
       "albumin            float64\n",
       "protime              int32\n",
       "histology            int64\n",
       "dtype: object"
      ]
     },
     "execution_count": 3,
     "metadata": {},
     "output_type": "execute_result"
    }
   ],
   "source": [
    "#define names of columns\n",
    "df = col_names = [\"Class\" , \"AGE\" , \"SEX\" , \"STEROID\" , \"ANTIVIRALS\" , \"FATIGUE\" ,\n",
    "             \"MALAISE\" , \"ANOREXIA\" , \"LIVER BIG\" , \"LIVER FIRM\" ,  \"SPLEEN PALPABLE\" ,\n",
    "             \"SPIDERS\" , \"ASCITES\" , \"VARICES\" ,  \"BILIRUBIN\" , \"ALK PHOSPHATE\" , \"SGOT\" ,\n",
    "             \"ALBUMIN\" ,  \"PROTIME\" , \"HISTOLOGY\"]\n",
    "\n",
    "df = pd.read_csv(\"hepatitis.data\",sep = \",\" , names = col_names)\n",
    "\n",
    "#Convert to lower case\n",
    "df.columns = df.columns.str.lower().str.replace(' ','_')\n",
    "\n",
    "#replace ? with  0 \n",
    "df = df.replace('?',0)\n",
    "df.columns[df.dtypes == 'object']\n",
    "\n",
    "#convert\n",
    "df[['steroid', 'fatigue', 'malaise', 'anorexia', 'liver_big', 'liver_firm',\n",
    "       'spleen_palpable', 'spiders', 'ascites', 'varices',\n",
    "       'alk_phosphate', 'sgot', 'protime']] = df[['steroid', 'fatigue', 'malaise', 'anorexia', 'liver_big', 'liver_firm',\n",
    "       'spleen_palpable', 'spiders', 'ascites', 'varices',\n",
    "       'alk_phosphate', 'sgot', 'protime']].astype(int)\n",
    "\n",
    "#convert other object items to float\n",
    "df[['bilirubin','albumin']] = df[['bilirubin','albumin']].astype(float)\n",
    "df.dtypes"
   ]
  },
  {
   "cell_type": "code",
   "execution_count": 4,
   "metadata": {},
   "outputs": [
    {
     "data": {
      "image/png": "[encoded data removed]",
      "text/plain": [
       "<Figure size 432x288 with 1 Axes>"
      ]
     },
     "metadata": {
      "needs_background": "light"
     },
     "output_type": "display_data"
    }
   ],
   "source": [
    "target_label = {\"Die\":1,\"Live\":2}\n",
    "fig = plt.figure()\n",
    "ax = fig.add_subplot(111)\n",
    "#ax.patch.set_facecolor('#F6F6F6')\n",
    "ax.patch.set_alpha(1.0)\n",
    "df['class'].value_counts().plot(kind='bar',color = '#406180')\n",
    "plt.gca().set_xticklabels(['Live','Die'])\n",
    "plt.title('Hepatitis Mortality')\n",
    "plt.show()\n"
   ]
  },
  {
   "cell_type": "markdown",
   "metadata": {},
   "source": [
    "# Oversampling "
   ]
  },
  {
   "cell_type": "code",
   "execution_count": 5,
   "metadata": {},
   "outputs": [],
   "source": [
    "from imblearn.combine import SMOTETomek\n",
    "from imblearn.under_sampling import NearMiss"
   ]
  },
  {
   "cell_type": "code",
   "execution_count": 6,
   "metadata": {},
   "outputs": [],
   "source": [
    "xfeatures =df[['age', 'sex', 'steroid', 'antivirals', 'fatigue', 'malaise',\n",
    "       'anorexia', 'liver_big', 'liver_firm', 'spleen_palpable', 'spiders',\n",
    "       'ascites', 'varices', 'bilirubin', 'alk_phosphate', 'sgot', 'albumin',\n",
    "       'protime', 'histology']]\n",
    "ylabels = df['class']"
   ]
  },
  {
   "cell_type": "code",
   "execution_count": 7,
   "metadata": {},
   "outputs": [
    {
     "data": {
      "text/plain": [
       "2    116\n",
       "1    116\n",
       "Name: class, dtype: int64"
      ]
     },
     "execution_count": 7,
     "metadata": {},
     "output_type": "execute_result"
    }
   ],
   "source": [
    "smk = SMOTETomek(random_state=42)\n",
    "xfeatures_new,ylabels_new=smk.fit_sample(xfeatures,ylabels)\n",
    "pd.Series(ylabels_new).value_counts()"
   ]
  },
  {
   "cell_type": "code",
   "execution_count": 8,
   "metadata": {},
   "outputs": [
    {
     "data": {
      "text/html": [
       "<div>\n",
       "<style scoped>\n",
       "    .dataframe tbody tr th:only-of-type {\n",
       "        vertical-align: middle;\n",
       "    }\n",
       "\n",
       "    .dataframe tbody tr th {\n",
       "        vertical-align: top;\n",
       "    }\n",
       "\n",
       "    .dataframe thead th {\n",
       "        text-align: right;\n",
       "    }\n",
       "</style>\n",
       "<table border=\"1\" class=\"dataframe\">\n",
       "  <thead>\n",
       "    <tr style=\"text-align: right;\">\n",
       "      <th></th>\n",
       "      <th>age</th>\n",
       "      <th>sex</th>\n",
       "      <th>steroid</th>\n",
       "      <th>antivirals</th>\n",
       "      <th>fatigue</th>\n",
       "      <th>malaise</th>\n",
       "      <th>anorexia</th>\n",
       "      <th>liver_big</th>\n",
       "      <th>liver_firm</th>\n",
       "      <th>spleen_palpable</th>\n",
       "      <th>spiders</th>\n",
       "      <th>ascites</th>\n",
       "      <th>varices</th>\n",
       "      <th>bilirubin</th>\n",
       "      <th>alk_phosphate</th>\n",
       "      <th>sgot</th>\n",
       "      <th>albumin</th>\n",
       "      <th>protime</th>\n",
       "      <th>histology</th>\n",
       "    </tr>\n",
       "  </thead>\n",
       "  <tbody>\n",
       "    <tr>\n",
       "      <th>0</th>\n",
       "      <td>30</td>\n",
       "      <td>2</td>\n",
       "      <td>1</td>\n",
       "      <td>2</td>\n",
       "      <td>2</td>\n",
       "      <td>2</td>\n",
       "      <td>2</td>\n",
       "      <td>1</td>\n",
       "      <td>2</td>\n",
       "      <td>2</td>\n",
       "      <td>2</td>\n",
       "      <td>2</td>\n",
       "      <td>2</td>\n",
       "      <td>1.000000</td>\n",
       "      <td>85</td>\n",
       "      <td>18</td>\n",
       "      <td>4.000000</td>\n",
       "      <td>0</td>\n",
       "      <td>1</td>\n",
       "    </tr>\n",
       "    <tr>\n",
       "      <th>1</th>\n",
       "      <td>78</td>\n",
       "      <td>1</td>\n",
       "      <td>2</td>\n",
       "      <td>2</td>\n",
       "      <td>1</td>\n",
       "      <td>2</td>\n",
       "      <td>2</td>\n",
       "      <td>2</td>\n",
       "      <td>2</td>\n",
       "      <td>2</td>\n",
       "      <td>2</td>\n",
       "      <td>2</td>\n",
       "      <td>2</td>\n",
       "      <td>0.700000</td>\n",
       "      <td>96</td>\n",
       "      <td>32</td>\n",
       "      <td>4.000000</td>\n",
       "      <td>0</td>\n",
       "      <td>1</td>\n",
       "    </tr>\n",
       "    <tr>\n",
       "      <th>2</th>\n",
       "      <td>31</td>\n",
       "      <td>1</td>\n",
       "      <td>0</td>\n",
       "      <td>1</td>\n",
       "      <td>2</td>\n",
       "      <td>2</td>\n",
       "      <td>2</td>\n",
       "      <td>2</td>\n",
       "      <td>2</td>\n",
       "      <td>2</td>\n",
       "      <td>2</td>\n",
       "      <td>2</td>\n",
       "      <td>2</td>\n",
       "      <td>0.700000</td>\n",
       "      <td>46</td>\n",
       "      <td>52</td>\n",
       "      <td>4.000000</td>\n",
       "      <td>80</td>\n",
       "      <td>1</td>\n",
       "    </tr>\n",
       "    <tr>\n",
       "      <th>3</th>\n",
       "      <td>34</td>\n",
       "      <td>1</td>\n",
       "      <td>2</td>\n",
       "      <td>2</td>\n",
       "      <td>2</td>\n",
       "      <td>2</td>\n",
       "      <td>2</td>\n",
       "      <td>2</td>\n",
       "      <td>2</td>\n",
       "      <td>2</td>\n",
       "      <td>2</td>\n",
       "      <td>2</td>\n",
       "      <td>2</td>\n",
       "      <td>1.000000</td>\n",
       "      <td>0</td>\n",
       "      <td>200</td>\n",
       "      <td>4.000000</td>\n",
       "      <td>0</td>\n",
       "      <td>1</td>\n",
       "    </tr>\n",
       "    <tr>\n",
       "      <th>4</th>\n",
       "      <td>34</td>\n",
       "      <td>1</td>\n",
       "      <td>2</td>\n",
       "      <td>2</td>\n",
       "      <td>2</td>\n",
       "      <td>2</td>\n",
       "      <td>2</td>\n",
       "      <td>2</td>\n",
       "      <td>2</td>\n",
       "      <td>2</td>\n",
       "      <td>2</td>\n",
       "      <td>2</td>\n",
       "      <td>2</td>\n",
       "      <td>0.900000</td>\n",
       "      <td>95</td>\n",
       "      <td>28</td>\n",
       "      <td>4.000000</td>\n",
       "      <td>75</td>\n",
       "      <td>1</td>\n",
       "    </tr>\n",
       "    <tr>\n",
       "      <th>...</th>\n",
       "      <td>...</td>\n",
       "      <td>...</td>\n",
       "      <td>...</td>\n",
       "      <td>...</td>\n",
       "      <td>...</td>\n",
       "      <td>...</td>\n",
       "      <td>...</td>\n",
       "      <td>...</td>\n",
       "      <td>...</td>\n",
       "      <td>...</td>\n",
       "      <td>...</td>\n",
       "      <td>...</td>\n",
       "      <td>...</td>\n",
       "      <td>...</td>\n",
       "      <td>...</td>\n",
       "      <td>...</td>\n",
       "      <td>...</td>\n",
       "      <td>...</td>\n",
       "      <td>...</td>\n",
       "    </tr>\n",
       "    <tr>\n",
       "      <th>227</th>\n",
       "      <td>49</td>\n",
       "      <td>1</td>\n",
       "      <td>1</td>\n",
       "      <td>2</td>\n",
       "      <td>1</td>\n",
       "      <td>1</td>\n",
       "      <td>2</td>\n",
       "      <td>1</td>\n",
       "      <td>1</td>\n",
       "      <td>1</td>\n",
       "      <td>1</td>\n",
       "      <td>1</td>\n",
       "      <td>1</td>\n",
       "      <td>2.757766</td>\n",
       "      <td>98</td>\n",
       "      <td>24</td>\n",
       "      <td>3.920823</td>\n",
       "      <td>56</td>\n",
       "      <td>2</td>\n",
       "    </tr>\n",
       "    <tr>\n",
       "      <th>228</th>\n",
       "      <td>41</td>\n",
       "      <td>1</td>\n",
       "      <td>2</td>\n",
       "      <td>2</td>\n",
       "      <td>1</td>\n",
       "      <td>1</td>\n",
       "      <td>1</td>\n",
       "      <td>2</td>\n",
       "      <td>1</td>\n",
       "      <td>1</td>\n",
       "      <td>1</td>\n",
       "      <td>1</td>\n",
       "      <td>1</td>\n",
       "      <td>3.777793</td>\n",
       "      <td>53</td>\n",
       "      <td>118</td>\n",
       "      <td>3.216432</td>\n",
       "      <td>0</td>\n",
       "      <td>2</td>\n",
       "    </tr>\n",
       "    <tr>\n",
       "      <th>229</th>\n",
       "      <td>40</td>\n",
       "      <td>1</td>\n",
       "      <td>1</td>\n",
       "      <td>1</td>\n",
       "      <td>1</td>\n",
       "      <td>1</td>\n",
       "      <td>2</td>\n",
       "      <td>2</td>\n",
       "      <td>2</td>\n",
       "      <td>2</td>\n",
       "      <td>1</td>\n",
       "      <td>1</td>\n",
       "      <td>2</td>\n",
       "      <td>0.540331</td>\n",
       "      <td>62</td>\n",
       "      <td>70</td>\n",
       "      <td>3.638676</td>\n",
       "      <td>29</td>\n",
       "      <td>2</td>\n",
       "    </tr>\n",
       "    <tr>\n",
       "      <th>230</th>\n",
       "      <td>42</td>\n",
       "      <td>1</td>\n",
       "      <td>1</td>\n",
       "      <td>2</td>\n",
       "      <td>1</td>\n",
       "      <td>1</td>\n",
       "      <td>1</td>\n",
       "      <td>2</td>\n",
       "      <td>2</td>\n",
       "      <td>1</td>\n",
       "      <td>1</td>\n",
       "      <td>1</td>\n",
       "      <td>2</td>\n",
       "      <td>2.819377</td>\n",
       "      <td>0</td>\n",
       "      <td>112</td>\n",
       "      <td>2.369856</td>\n",
       "      <td>0</td>\n",
       "      <td>2</td>\n",
       "    </tr>\n",
       "    <tr>\n",
       "      <th>231</th>\n",
       "      <td>58</td>\n",
       "      <td>1</td>\n",
       "      <td>1</td>\n",
       "      <td>2</td>\n",
       "      <td>1</td>\n",
       "      <td>1</td>\n",
       "      <td>2</td>\n",
       "      <td>1</td>\n",
       "      <td>1</td>\n",
       "      <td>1</td>\n",
       "      <td>1</td>\n",
       "      <td>2</td>\n",
       "      <td>2</td>\n",
       "      <td>1.745901</td>\n",
       "      <td>136</td>\n",
       "      <td>198</td>\n",
       "      <td>3.452460</td>\n",
       "      <td>19</td>\n",
       "      <td>1</td>\n",
       "    </tr>\n",
       "  </tbody>\n",
       "</table>\n",
       "<p>232 rows × 19 columns</p>\n",
       "</div>"
      ],
      "text/plain": [
       "     age  sex  steroid  antivirals  fatigue  malaise  anorexia  liver_big  \\\n",
       "0     30    2        1           2        2        2         2          1   \n",
       "1     78    1        2           2        1        2         2          2   \n",
       "2     31    1        0           1        2        2         2          2   \n",
       "3     34    1        2           2        2        2         2          2   \n",
       "4     34    1        2           2        2        2         2          2   \n",
       "..   ...  ...      ...         ...      ...      ...       ...        ...   \n",
       "227   49    1        1           2        1        1         2          1   \n",
       "228   41    1        2           2        1        1         1          2   \n",
       "229   40    1        1           1        1        1         2          2   \n",
       "230   42    1        1           2        1        1         1          2   \n",
       "231   58    1        1           2        1        1         2          1   \n",
       "\n",
       "     liver_firm  spleen_palpable  spiders  ascites  varices  bilirubin  \\\n",
       "0             2                2        2        2        2   1.000000   \n",
       "1             2                2        2        2        2   0.700000   \n",
       "2             2                2        2        2        2   0.700000   \n",
       "3             2                2        2        2        2   1.000000   \n",
       "4             2                2        2        2        2   0.900000   \n",
       "..          ...              ...      ...      ...      ...        ...   \n",
       "227           1                1        1        1        1   2.757766   \n",
       "228           1                1        1        1        1   3.777793   \n",
       "229           2                2        1        1        2   0.540331   \n",
       "230           2                1        1        1        2   2.819377   \n",
       "231           1                1        1        2        2   1.745901   \n",
       "\n",
       "     alk_phosphate  sgot   albumin  protime  histology  \n",
       "0               85    18  4.000000        0          1  \n",
       "1               96    32  4.000000        0          1  \n",
       "2               46    52  4.000000       80          1  \n",
       "3                0   200  4.000000        0          1  \n",
       "4               95    28  4.000000       75          1  \n",
       "..             ...   ...       ...      ...        ...  \n",
       "227             98    24  3.920823       56          2  \n",
       "228             53   118  3.216432        0          2  \n",
       "229             62    70  3.638676       29          2  \n",
       "230              0   112  2.369856        0          2  \n",
       "231            136   198  3.452460       19          1  \n",
       "\n",
       "[232 rows x 19 columns]"
      ]
     },
     "execution_count": 8,
     "metadata": {},
     "output_type": "execute_result"
    }
   ],
   "source": [
    "xfeatures_new"
   ]
  },
  {
   "cell_type": "code",
   "execution_count": 9,
   "metadata": {},
   "outputs": [
    {
     "data": {
      "text/html": [
       "<div>\n",
       "<style scoped>\n",
       "    .dataframe tbody tr th:only-of-type {\n",
       "        vertical-align: middle;\n",
       "    }\n",
       "\n",
       "    .dataframe tbody tr th {\n",
       "        vertical-align: top;\n",
       "    }\n",
       "\n",
       "    .dataframe thead th {\n",
       "        text-align: right;\n",
       "    }\n",
       "</style>\n",
       "<table border=\"1\" class=\"dataframe\">\n",
       "  <thead>\n",
       "    <tr style=\"text-align: right;\">\n",
       "      <th></th>\n",
       "      <th>age</th>\n",
       "      <th>sex</th>\n",
       "      <th>steroid</th>\n",
       "      <th>antivirals</th>\n",
       "      <th>fatigue</th>\n",
       "      <th>malaise</th>\n",
       "      <th>anorexia</th>\n",
       "      <th>liver_big</th>\n",
       "      <th>liver_firm</th>\n",
       "      <th>spleen_palpable</th>\n",
       "      <th>spiders</th>\n",
       "      <th>ascites</th>\n",
       "      <th>varices</th>\n",
       "      <th>bilirubin</th>\n",
       "      <th>alk_phosphate</th>\n",
       "      <th>sgot</th>\n",
       "      <th>albumin</th>\n",
       "      <th>protime</th>\n",
       "      <th>histology</th>\n",
       "      <th>class</th>\n",
       "    </tr>\n",
       "  </thead>\n",
       "  <tbody>\n",
       "    <tr>\n",
       "      <th>0</th>\n",
       "      <td>30</td>\n",
       "      <td>2</td>\n",
       "      <td>1</td>\n",
       "      <td>2</td>\n",
       "      <td>2</td>\n",
       "      <td>2</td>\n",
       "      <td>2</td>\n",
       "      <td>1</td>\n",
       "      <td>2</td>\n",
       "      <td>2</td>\n",
       "      <td>2</td>\n",
       "      <td>2</td>\n",
       "      <td>2</td>\n",
       "      <td>1.000000</td>\n",
       "      <td>85</td>\n",
       "      <td>18</td>\n",
       "      <td>4.000000</td>\n",
       "      <td>0</td>\n",
       "      <td>1</td>\n",
       "      <td>2</td>\n",
       "    </tr>\n",
       "    <tr>\n",
       "      <th>1</th>\n",
       "      <td>78</td>\n",
       "      <td>1</td>\n",
       "      <td>2</td>\n",
       "      <td>2</td>\n",
       "      <td>1</td>\n",
       "      <td>2</td>\n",
       "      <td>2</td>\n",
       "      <td>2</td>\n",
       "      <td>2</td>\n",
       "      <td>2</td>\n",
       "      <td>2</td>\n",
       "      <td>2</td>\n",
       "      <td>2</td>\n",
       "      <td>0.700000</td>\n",
       "      <td>96</td>\n",
       "      <td>32</td>\n",
       "      <td>4.000000</td>\n",
       "      <td>0</td>\n",
       "      <td>1</td>\n",
       "      <td>2</td>\n",
       "    </tr>\n",
       "    <tr>\n",
       "      <th>2</th>\n",
       "      <td>31</td>\n",
       "      <td>1</td>\n",
       "      <td>0</td>\n",
       "      <td>1</td>\n",
       "      <td>2</td>\n",
       "      <td>2</td>\n",
       "      <td>2</td>\n",
       "      <td>2</td>\n",
       "      <td>2</td>\n",
       "      <td>2</td>\n",
       "      <td>2</td>\n",
       "      <td>2</td>\n",
       "      <td>2</td>\n",
       "      <td>0.700000</td>\n",
       "      <td>46</td>\n",
       "      <td>52</td>\n",
       "      <td>4.000000</td>\n",
       "      <td>80</td>\n",
       "      <td>1</td>\n",
       "      <td>2</td>\n",
       "    </tr>\n",
       "    <tr>\n",
       "      <th>3</th>\n",
       "      <td>34</td>\n",
       "      <td>1</td>\n",
       "      <td>2</td>\n",
       "      <td>2</td>\n",
       "      <td>2</td>\n",
       "      <td>2</td>\n",
       "      <td>2</td>\n",
       "      <td>2</td>\n",
       "      <td>2</td>\n",
       "      <td>2</td>\n",
       "      <td>2</td>\n",
       "      <td>2</td>\n",
       "      <td>2</td>\n",
       "      <td>1.000000</td>\n",
       "      <td>0</td>\n",
       "      <td>200</td>\n",
       "      <td>4.000000</td>\n",
       "      <td>0</td>\n",
       "      <td>1</td>\n",
       "      <td>2</td>\n",
       "    </tr>\n",
       "    <tr>\n",
       "      <th>4</th>\n",
       "      <td>34</td>\n",
       "      <td>1</td>\n",
       "      <td>2</td>\n",
       "      <td>2</td>\n",
       "      <td>2</td>\n",
       "      <td>2</td>\n",
       "      <td>2</td>\n",
       "      <td>2</td>\n",
       "      <td>2</td>\n",
       "      <td>2</td>\n",
       "      <td>2</td>\n",
       "      <td>2</td>\n",
       "      <td>2</td>\n",
       "      <td>0.900000</td>\n",
       "      <td>95</td>\n",
       "      <td>28</td>\n",
       "      <td>4.000000</td>\n",
       "      <td>75</td>\n",
       "      <td>1</td>\n",
       "      <td>2</td>\n",
       "    </tr>\n",
       "    <tr>\n",
       "      <th>...</th>\n",
       "      <td>...</td>\n",
       "      <td>...</td>\n",
       "      <td>...</td>\n",
       "      <td>...</td>\n",
       "      <td>...</td>\n",
       "      <td>...</td>\n",
       "      <td>...</td>\n",
       "      <td>...</td>\n",
       "      <td>...</td>\n",
       "      <td>...</td>\n",
       "      <td>...</td>\n",
       "      <td>...</td>\n",
       "      <td>...</td>\n",
       "      <td>...</td>\n",
       "      <td>...</td>\n",
       "      <td>...</td>\n",
       "      <td>...</td>\n",
       "      <td>...</td>\n",
       "      <td>...</td>\n",
       "      <td>...</td>\n",
       "    </tr>\n",
       "    <tr>\n",
       "      <th>227</th>\n",
       "      <td>49</td>\n",
       "      <td>1</td>\n",
       "      <td>1</td>\n",
       "      <td>2</td>\n",
       "      <td>1</td>\n",
       "      <td>1</td>\n",
       "      <td>2</td>\n",
       "      <td>1</td>\n",
       "      <td>1</td>\n",
       "      <td>1</td>\n",
       "      <td>1</td>\n",
       "      <td>1</td>\n",
       "      <td>1</td>\n",
       "      <td>2.757766</td>\n",
       "      <td>98</td>\n",
       "      <td>24</td>\n",
       "      <td>3.920823</td>\n",
       "      <td>56</td>\n",
       "      <td>2</td>\n",
       "      <td>1</td>\n",
       "    </tr>\n",
       "    <tr>\n",
       "      <th>228</th>\n",
       "      <td>41</td>\n",
       "      <td>1</td>\n",
       "      <td>2</td>\n",
       "      <td>2</td>\n",
       "      <td>1</td>\n",
       "      <td>1</td>\n",
       "      <td>1</td>\n",
       "      <td>2</td>\n",
       "      <td>1</td>\n",
       "      <td>1</td>\n",
       "      <td>1</td>\n",
       "      <td>1</td>\n",
       "      <td>1</td>\n",
       "      <td>3.777793</td>\n",
       "      <td>53</td>\n",
       "      <td>118</td>\n",
       "      <td>3.216432</td>\n",
       "      <td>0</td>\n",
       "      <td>2</td>\n",
       "      <td>1</td>\n",
       "    </tr>\n",
       "    <tr>\n",
       "      <th>229</th>\n",
       "      <td>40</td>\n",
       "      <td>1</td>\n",
       "      <td>1</td>\n",
       "      <td>1</td>\n",
       "      <td>1</td>\n",
       "      <td>1</td>\n",
       "      <td>2</td>\n",
       "      <td>2</td>\n",
       "      <td>2</td>\n",
       "      <td>2</td>\n",
       "      <td>1</td>\n",
       "      <td>1</td>\n",
       "      <td>2</td>\n",
       "      <td>0.540331</td>\n",
       "      <td>62</td>\n",
       "      <td>70</td>\n",
       "      <td>3.638676</td>\n",
       "      <td>29</td>\n",
       "      <td>2</td>\n",
       "      <td>1</td>\n",
       "    </tr>\n",
       "    <tr>\n",
       "      <th>230</th>\n",
       "      <td>42</td>\n",
       "      <td>1</td>\n",
       "      <td>1</td>\n",
       "      <td>2</td>\n",
       "      <td>1</td>\n",
       "      <td>1</td>\n",
       "      <td>1</td>\n",
       "      <td>2</td>\n",
       "      <td>2</td>\n",
       "      <td>1</td>\n",
       "      <td>1</td>\n",
       "      <td>1</td>\n",
       "      <td>2</td>\n",
       "      <td>2.819377</td>\n",
       "      <td>0</td>\n",
       "      <td>112</td>\n",
       "      <td>2.369856</td>\n",
       "      <td>0</td>\n",
       "      <td>2</td>\n",
       "      <td>1</td>\n",
       "    </tr>\n",
       "    <tr>\n",
       "      <th>231</th>\n",
       "      <td>58</td>\n",
       "      <td>1</td>\n",
       "      <td>1</td>\n",
       "      <td>2</td>\n",
       "      <td>1</td>\n",
       "      <td>1</td>\n",
       "      <td>2</td>\n",
       "      <td>1</td>\n",
       "      <td>1</td>\n",
       "      <td>1</td>\n",
       "      <td>1</td>\n",
       "      <td>2</td>\n",
       "      <td>2</td>\n",
       "      <td>1.745901</td>\n",
       "      <td>136</td>\n",
       "      <td>198</td>\n",
       "      <td>3.452460</td>\n",
       "      <td>19</td>\n",
       "      <td>1</td>\n",
       "      <td>1</td>\n",
       "    </tr>\n",
       "  </tbody>\n",
       "</table>\n",
       "<p>232 rows × 20 columns</p>\n",
       "</div>"
      ],
      "text/plain": [
       "     age  sex  steroid  antivirals  fatigue  malaise  anorexia  liver_big  \\\n",
       "0     30    2        1           2        2        2         2          1   \n",
       "1     78    1        2           2        1        2         2          2   \n",
       "2     31    1        0           1        2        2         2          2   \n",
       "3     34    1        2           2        2        2         2          2   \n",
       "4     34    1        2           2        2        2         2          2   \n",
       "..   ...  ...      ...         ...      ...      ...       ...        ...   \n",
       "227   49    1        1           2        1        1         2          1   \n",
       "228   41    1        2           2        1        1         1          2   \n",
       "229   40    1        1           1        1        1         2          2   \n",
       "230   42    1        1           2        1        1         1          2   \n",
       "231   58    1        1           2        1        1         2          1   \n",
       "\n",
       "     liver_firm  spleen_palpable  spiders  ascites  varices  bilirubin  \\\n",
       "0             2                2        2        2        2   1.000000   \n",
       "1             2                2        2        2        2   0.700000   \n",
       "2             2                2        2        2        2   0.700000   \n",
       "3             2                2        2        2        2   1.000000   \n",
       "4             2                2        2        2        2   0.900000   \n",
       "..          ...              ...      ...      ...      ...        ...   \n",
       "227           1                1        1        1        1   2.757766   \n",
       "228           1                1        1        1        1   3.777793   \n",
       "229           2                2        1        1        2   0.540331   \n",
       "230           2                1        1        1        2   2.819377   \n",
       "231           1                1        1        2        2   1.745901   \n",
       "\n",
       "     alk_phosphate  sgot   albumin  protime  histology  class  \n",
       "0               85    18  4.000000        0          1      2  \n",
       "1               96    32  4.000000        0          1      2  \n",
       "2               46    52  4.000000       80          1      2  \n",
       "3                0   200  4.000000        0          1      2  \n",
       "4               95    28  4.000000       75          1      2  \n",
       "..             ...   ...       ...      ...        ...    ...  \n",
       "227             98    24  3.920823       56          2      1  \n",
       "228             53   118  3.216432        0          2      1  \n",
       "229             62    70  3.638676       29          2      1  \n",
       "230              0   112  2.369856        0          2      1  \n",
       "231            136   198  3.452460       19          1      1  \n",
       "\n",
       "[232 rows x 20 columns]"
      ]
     },
     "execution_count": 9,
     "metadata": {},
     "output_type": "execute_result"
    }
   ],
   "source": [
    "df_new = xfeatures_new.join(ylabels_new)\n",
    "df_new"
   ]
  },
  {
   "cell_type": "code",
   "execution_count": 10,
   "metadata": {},
   "outputs": [
    {
     "name": "stdout",
     "output_type": "stream",
     "text": [
      "age\n",
      "sex\n",
      "steroid\n",
      "antivirals\n",
      "fatigue\n",
      "malaise\n",
      "anorexia\n",
      "liver_big\n",
      "liver_firm\n",
      "spleen_palpable\n",
      "spiders\n",
      "ascites\n",
      "varices\n",
      "bilirubin\n",
      "alk_phosphate\n",
      "sgot\n",
      "albumin\n",
      "protime\n",
      "histology\n",
      "class\n"
     ]
    }
   ],
   "source": [
    "for col in df_new.columns: \n",
    "    print(col)"
   ]
  },
  {
   "cell_type": "markdown",
   "metadata": {},
   "source": [
    "## Feature Selection"
   ]
  },
  {
   "cell_type": "code",
   "execution_count": 11,
   "metadata": {},
   "outputs": [],
   "source": [
    "from sklearn.feature_selection import SelectKBest\n",
    "from sklearn.feature_selection import chi2"
   ]
  },
  {
   "cell_type": "code",
   "execution_count": 12,
   "metadata": {},
   "outputs": [],
   "source": [
    "skb = SelectKBest(score_func=chi2,k=12)\n",
    "best_feature_fit = skb.fit(xfeatures_new,ylabels_new)"
   ]
  },
  {
   "cell_type": "code",
   "execution_count": 13,
   "metadata": {},
   "outputs": [
    {
     "name": "stdout",
     "output_type": "stream",
     "text": [
      "scores [8.00837675e+01 1.03225806e+00 4.34603175e+00 5.88235294e-02\n",
      " 8.11267606e+00 1.30804954e+01 1.46192893e+00 1.78835979e+00\n",
      " 4.29153605e+00 6.79347826e+00 1.74148607e+01 1.02234043e+01\n",
      " 6.47668394e+00 4.59731820e+01 4.00398673e+01 3.50856198e+01\n",
      " 1.91411925e+01 4.69830697e+02 4.30878187e+00]\n"
     ]
    }
   ],
   "source": [
    "print(\"scores\",best_feature_fit.scores_) "
   ]
  },
  {
   "cell_type": "code",
   "execution_count": 14,
   "metadata": {},
   "outputs": [
    {
     "data": {
      "text/html": [
       "<div>\n",
       "<style scoped>\n",
       "    .dataframe tbody tr th:only-of-type {\n",
       "        vertical-align: middle;\n",
       "    }\n",
       "\n",
       "    .dataframe tbody tr th {\n",
       "        vertical-align: top;\n",
       "    }\n",
       "\n",
       "    .dataframe thead th {\n",
       "        text-align: right;\n",
       "    }\n",
       "</style>\n",
       "<table border=\"1\" class=\"dataframe\">\n",
       "  <thead>\n",
       "    <tr style=\"text-align: right;\">\n",
       "      <th></th>\n",
       "      <th>Feature_Scores</th>\n",
       "      <th>Feature_name</th>\n",
       "    </tr>\n",
       "  </thead>\n",
       "  <tbody>\n",
       "    <tr>\n",
       "      <th>17</th>\n",
       "      <td>469.830697</td>\n",
       "      <td>protime</td>\n",
       "    </tr>\n",
       "    <tr>\n",
       "      <th>0</th>\n",
       "      <td>80.083768</td>\n",
       "      <td>age</td>\n",
       "    </tr>\n",
       "    <tr>\n",
       "      <th>13</th>\n",
       "      <td>45.973182</td>\n",
       "      <td>bilirubin</td>\n",
       "    </tr>\n",
       "    <tr>\n",
       "      <th>14</th>\n",
       "      <td>40.039867</td>\n",
       "      <td>alk_phosphate</td>\n",
       "    </tr>\n",
       "    <tr>\n",
       "      <th>15</th>\n",
       "      <td>35.085620</td>\n",
       "      <td>sgot</td>\n",
       "    </tr>\n",
       "    <tr>\n",
       "      <th>16</th>\n",
       "      <td>19.141192</td>\n",
       "      <td>albumin</td>\n",
       "    </tr>\n",
       "    <tr>\n",
       "      <th>10</th>\n",
       "      <td>17.414861</td>\n",
       "      <td>spiders</td>\n",
       "    </tr>\n",
       "    <tr>\n",
       "      <th>5</th>\n",
       "      <td>13.080495</td>\n",
       "      <td>malaise</td>\n",
       "    </tr>\n",
       "    <tr>\n",
       "      <th>11</th>\n",
       "      <td>10.223404</td>\n",
       "      <td>ascites</td>\n",
       "    </tr>\n",
       "    <tr>\n",
       "      <th>4</th>\n",
       "      <td>8.112676</td>\n",
       "      <td>fatigue</td>\n",
       "    </tr>\n",
       "    <tr>\n",
       "      <th>9</th>\n",
       "      <td>6.793478</td>\n",
       "      <td>spleen_palpable</td>\n",
       "    </tr>\n",
       "    <tr>\n",
       "      <th>12</th>\n",
       "      <td>6.476684</td>\n",
       "      <td>varices</td>\n",
       "    </tr>\n",
       "  </tbody>\n",
       "</table>\n",
       "</div>"
      ],
      "text/plain": [
       "    Feature_Scores     Feature_name\n",
       "17      469.830697          protime\n",
       "0        80.083768              age\n",
       "13       45.973182        bilirubin\n",
       "14       40.039867    alk_phosphate\n",
       "15       35.085620             sgot\n",
       "16       19.141192          albumin\n",
       "10       17.414861          spiders\n",
       "5        13.080495          malaise\n",
       "11       10.223404          ascites\n",
       "4         8.112676          fatigue\n",
       "9         6.793478  spleen_palpable\n",
       "12        6.476684          varices"
      ]
     },
     "execution_count": 14,
     "metadata": {},
     "output_type": "execute_result"
    }
   ],
   "source": [
    "feature_scores = pd.DataFrame(best_feature_fit.scores_,columns=['Feature_Scores']) \n",
    "feature_column_names = pd.DataFrame(xfeatures_new.columns,columns=['Feature_name'])\n",
    "best_feat_df = pd.concat([feature_scores,feature_column_names],axis=1)\n",
    "best_feat_df.nlargest(12,'Feature_Scores')"
   ]
  },
  {
   "cell_type": "code",
   "execution_count": 15,
   "metadata": {},
   "outputs": [
    {
     "data": {
      "text/html": [
       "<div>\n",
       "<style scoped>\n",
       "    .dataframe tbody tr th:only-of-type {\n",
       "        vertical-align: middle;\n",
       "    }\n",
       "\n",
       "    .dataframe tbody tr th {\n",
       "        vertical-align: top;\n",
       "    }\n",
       "\n",
       "    .dataframe thead th {\n",
       "        text-align: right;\n",
       "    }\n",
       "</style>\n",
       "<table border=\"1\" class=\"dataframe\">\n",
       "  <thead>\n",
       "    <tr style=\"text-align: right;\">\n",
       "      <th></th>\n",
       "      <th>class</th>\n",
       "      <th>protime</th>\n",
       "      <th>age</th>\n",
       "      <th>bilirubin</th>\n",
       "      <th>alk_phosphate</th>\n",
       "      <th>sgot</th>\n",
       "      <th>albumin</th>\n",
       "      <th>spiders</th>\n",
       "      <th>malaise</th>\n",
       "      <th>ascites</th>\n",
       "      <th>fatigue</th>\n",
       "      <th>spleen_palpable</th>\n",
       "      <th>varices</th>\n",
       "    </tr>\n",
       "  </thead>\n",
       "  <tbody>\n",
       "    <tr>\n",
       "      <th>0</th>\n",
       "      <td>2</td>\n",
       "      <td>0</td>\n",
       "      <td>30</td>\n",
       "      <td>1.000000</td>\n",
       "      <td>85</td>\n",
       "      <td>18</td>\n",
       "      <td>4.000000</td>\n",
       "      <td>2</td>\n",
       "      <td>2</td>\n",
       "      <td>2</td>\n",
       "      <td>2</td>\n",
       "      <td>2</td>\n",
       "      <td>2</td>\n",
       "    </tr>\n",
       "    <tr>\n",
       "      <th>1</th>\n",
       "      <td>2</td>\n",
       "      <td>0</td>\n",
       "      <td>78</td>\n",
       "      <td>0.700000</td>\n",
       "      <td>96</td>\n",
       "      <td>32</td>\n",
       "      <td>4.000000</td>\n",
       "      <td>2</td>\n",
       "      <td>2</td>\n",
       "      <td>2</td>\n",
       "      <td>1</td>\n",
       "      <td>2</td>\n",
       "      <td>2</td>\n",
       "    </tr>\n",
       "    <tr>\n",
       "      <th>2</th>\n",
       "      <td>2</td>\n",
       "      <td>80</td>\n",
       "      <td>31</td>\n",
       "      <td>0.700000</td>\n",
       "      <td>46</td>\n",
       "      <td>52</td>\n",
       "      <td>4.000000</td>\n",
       "      <td>2</td>\n",
       "      <td>2</td>\n",
       "      <td>2</td>\n",
       "      <td>2</td>\n",
       "      <td>2</td>\n",
       "      <td>2</td>\n",
       "    </tr>\n",
       "    <tr>\n",
       "      <th>3</th>\n",
       "      <td>2</td>\n",
       "      <td>0</td>\n",
       "      <td>34</td>\n",
       "      <td>1.000000</td>\n",
       "      <td>0</td>\n",
       "      <td>200</td>\n",
       "      <td>4.000000</td>\n",
       "      <td>2</td>\n",
       "      <td>2</td>\n",
       "      <td>2</td>\n",
       "      <td>2</td>\n",
       "      <td>2</td>\n",
       "      <td>2</td>\n",
       "    </tr>\n",
       "    <tr>\n",
       "      <th>4</th>\n",
       "      <td>2</td>\n",
       "      <td>75</td>\n",
       "      <td>34</td>\n",
       "      <td>0.900000</td>\n",
       "      <td>95</td>\n",
       "      <td>28</td>\n",
       "      <td>4.000000</td>\n",
       "      <td>2</td>\n",
       "      <td>2</td>\n",
       "      <td>2</td>\n",
       "      <td>2</td>\n",
       "      <td>2</td>\n",
       "      <td>2</td>\n",
       "    </tr>\n",
       "    <tr>\n",
       "      <th>...</th>\n",
       "      <td>...</td>\n",
       "      <td>...</td>\n",
       "      <td>...</td>\n",
       "      <td>...</td>\n",
       "      <td>...</td>\n",
       "      <td>...</td>\n",
       "      <td>...</td>\n",
       "      <td>...</td>\n",
       "      <td>...</td>\n",
       "      <td>...</td>\n",
       "      <td>...</td>\n",
       "      <td>...</td>\n",
       "      <td>...</td>\n",
       "    </tr>\n",
       "    <tr>\n",
       "      <th>227</th>\n",
       "      <td>1</td>\n",
       "      <td>56</td>\n",
       "      <td>49</td>\n",
       "      <td>2.757766</td>\n",
       "      <td>98</td>\n",
       "      <td>24</td>\n",
       "      <td>3.920823</td>\n",
       "      <td>1</td>\n",
       "      <td>1</td>\n",
       "      <td>1</td>\n",
       "      <td>1</td>\n",
       "      <td>1</td>\n",
       "      <td>1</td>\n",
       "    </tr>\n",
       "    <tr>\n",
       "      <th>228</th>\n",
       "      <td>1</td>\n",
       "      <td>0</td>\n",
       "      <td>41</td>\n",
       "      <td>3.777793</td>\n",
       "      <td>53</td>\n",
       "      <td>118</td>\n",
       "      <td>3.216432</td>\n",
       "      <td>1</td>\n",
       "      <td>1</td>\n",
       "      <td>1</td>\n",
       "      <td>1</td>\n",
       "      <td>1</td>\n",
       "      <td>1</td>\n",
       "    </tr>\n",
       "    <tr>\n",
       "      <th>229</th>\n",
       "      <td>1</td>\n",
       "      <td>29</td>\n",
       "      <td>40</td>\n",
       "      <td>0.540331</td>\n",
       "      <td>62</td>\n",
       "      <td>70</td>\n",
       "      <td>3.638676</td>\n",
       "      <td>1</td>\n",
       "      <td>1</td>\n",
       "      <td>1</td>\n",
       "      <td>1</td>\n",
       "      <td>2</td>\n",
       "      <td>2</td>\n",
       "    </tr>\n",
       "    <tr>\n",
       "      <th>230</th>\n",
       "      <td>1</td>\n",
       "      <td>0</td>\n",
       "      <td>42</td>\n",
       "      <td>2.819377</td>\n",
       "      <td>0</td>\n",
       "      <td>112</td>\n",
       "      <td>2.369856</td>\n",
       "      <td>1</td>\n",
       "      <td>1</td>\n",
       "      <td>1</td>\n",
       "      <td>1</td>\n",
       "      <td>1</td>\n",
       "      <td>2</td>\n",
       "    </tr>\n",
       "    <tr>\n",
       "      <th>231</th>\n",
       "      <td>1</td>\n",
       "      <td>19</td>\n",
       "      <td>58</td>\n",
       "      <td>1.745901</td>\n",
       "      <td>136</td>\n",
       "      <td>198</td>\n",
       "      <td>3.452460</td>\n",
       "      <td>1</td>\n",
       "      <td>1</td>\n",
       "      <td>2</td>\n",
       "      <td>1</td>\n",
       "      <td>1</td>\n",
       "      <td>2</td>\n",
       "    </tr>\n",
       "  </tbody>\n",
       "</table>\n",
       "<p>232 rows × 13 columns</p>\n",
       "</div>"
      ],
      "text/plain": [
       "     class  protime  age  bilirubin  alk_phosphate  sgot   albumin  spiders  \\\n",
       "0        2        0   30   1.000000             85    18  4.000000        2   \n",
       "1        2        0   78   0.700000             96    32  4.000000        2   \n",
       "2        2       80   31   0.700000             46    52  4.000000        2   \n",
       "3        2        0   34   1.000000              0   200  4.000000        2   \n",
       "4        2       75   34   0.900000             95    28  4.000000        2   \n",
       "..     ...      ...  ...        ...            ...   ...       ...      ...   \n",
       "227      1       56   49   2.757766             98    24  3.920823        1   \n",
       "228      1        0   41   3.777793             53   118  3.216432        1   \n",
       "229      1       29   40   0.540331             62    70  3.638676        1   \n",
       "230      1        0   42   2.819377              0   112  2.369856        1   \n",
       "231      1       19   58   1.745901            136   198  3.452460        1   \n",
       "\n",
       "     malaise  ascites  fatigue  spleen_palpable  varices  \n",
       "0          2        2        2                2        2  \n",
       "1          2        2        1                2        2  \n",
       "2          2        2        2                2        2  \n",
       "3          2        2        2                2        2  \n",
       "4          2        2        2                2        2  \n",
       "..       ...      ...      ...              ...      ...  \n",
       "227        1        1        1                1        1  \n",
       "228        1        1        1                1        1  \n",
       "229        1        1        1                2        2  \n",
       "230        1        1        1                1        2  \n",
       "231        1        2        1                1        2  \n",
       "\n",
       "[232 rows x 13 columns]"
      ]
     },
     "execution_count": 15,
     "metadata": {},
     "output_type": "execute_result"
    }
   ],
   "source": [
    "df_b=df_new[['class','protime','age','bilirubin','alk_phosphate','sgot','albumin','spiders','malaise','ascites','fatigue','spleen_palpable','varices']]\n",
    "df_b"
   ]
  },
  {
   "cell_type": "code",
   "execution_count": 16,
   "metadata": {},
   "outputs": [],
   "source": [
    "xfeatures_b = df_b[['class','protime','age','bilirubin','alk_phosphate','sgot','albumin','spiders','malaise','ascites','fatigue','spleen_palpable','varices']]\n",
    "ylabels_b = df_b[['class']]"
   ]
  },
  {
   "cell_type": "code",
   "execution_count": 17,
   "metadata": {},
   "outputs": [
    {
     "data": {
      "text/html": [
       "<div>\n",
       "<style scoped>\n",
       "    .dataframe tbody tr th:only-of-type {\n",
       "        vertical-align: middle;\n",
       "    }\n",
       "\n",
       "    .dataframe tbody tr th {\n",
       "        vertical-align: top;\n",
       "    }\n",
       "\n",
       "    .dataframe thead th {\n",
       "        text-align: right;\n",
       "    }\n",
       "</style>\n",
       "<table border=\"1\" class=\"dataframe\">\n",
       "  <thead>\n",
       "    <tr style=\"text-align: right;\">\n",
       "      <th></th>\n",
       "      <th>class</th>\n",
       "      <th>protime</th>\n",
       "      <th>age</th>\n",
       "      <th>bilirubin</th>\n",
       "      <th>alk_phosphate</th>\n",
       "      <th>sgot</th>\n",
       "      <th>albumin</th>\n",
       "      <th>spiders</th>\n",
       "      <th>malaise</th>\n",
       "      <th>ascites</th>\n",
       "      <th>fatigue</th>\n",
       "      <th>spleen_palpable</th>\n",
       "      <th>varices</th>\n",
       "    </tr>\n",
       "  </thead>\n",
       "  <tbody>\n",
       "    <tr>\n",
       "      <th>0</th>\n",
       "      <td>2</td>\n",
       "      <td>0</td>\n",
       "      <td>30</td>\n",
       "      <td>1.000000</td>\n",
       "      <td>85</td>\n",
       "      <td>18</td>\n",
       "      <td>4.000000</td>\n",
       "      <td>2</td>\n",
       "      <td>2</td>\n",
       "      <td>2</td>\n",
       "      <td>2</td>\n",
       "      <td>2</td>\n",
       "      <td>2</td>\n",
       "    </tr>\n",
       "    <tr>\n",
       "      <th>1</th>\n",
       "      <td>2</td>\n",
       "      <td>0</td>\n",
       "      <td>78</td>\n",
       "      <td>0.700000</td>\n",
       "      <td>96</td>\n",
       "      <td>32</td>\n",
       "      <td>4.000000</td>\n",
       "      <td>2</td>\n",
       "      <td>2</td>\n",
       "      <td>2</td>\n",
       "      <td>1</td>\n",
       "      <td>2</td>\n",
       "      <td>2</td>\n",
       "    </tr>\n",
       "    <tr>\n",
       "      <th>2</th>\n",
       "      <td>2</td>\n",
       "      <td>80</td>\n",
       "      <td>31</td>\n",
       "      <td>0.700000</td>\n",
       "      <td>46</td>\n",
       "      <td>52</td>\n",
       "      <td>4.000000</td>\n",
       "      <td>2</td>\n",
       "      <td>2</td>\n",
       "      <td>2</td>\n",
       "      <td>2</td>\n",
       "      <td>2</td>\n",
       "      <td>2</td>\n",
       "    </tr>\n",
       "    <tr>\n",
       "      <th>3</th>\n",
       "      <td>2</td>\n",
       "      <td>0</td>\n",
       "      <td>34</td>\n",
       "      <td>1.000000</td>\n",
       "      <td>0</td>\n",
       "      <td>200</td>\n",
       "      <td>4.000000</td>\n",
       "      <td>2</td>\n",
       "      <td>2</td>\n",
       "      <td>2</td>\n",
       "      <td>2</td>\n",
       "      <td>2</td>\n",
       "      <td>2</td>\n",
       "    </tr>\n",
       "    <tr>\n",
       "      <th>4</th>\n",
       "      <td>2</td>\n",
       "      <td>75</td>\n",
       "      <td>34</td>\n",
       "      <td>0.900000</td>\n",
       "      <td>95</td>\n",
       "      <td>28</td>\n",
       "      <td>4.000000</td>\n",
       "      <td>2</td>\n",
       "      <td>2</td>\n",
       "      <td>2</td>\n",
       "      <td>2</td>\n",
       "      <td>2</td>\n",
       "      <td>2</td>\n",
       "    </tr>\n",
       "    <tr>\n",
       "      <th>...</th>\n",
       "      <td>...</td>\n",
       "      <td>...</td>\n",
       "      <td>...</td>\n",
       "      <td>...</td>\n",
       "      <td>...</td>\n",
       "      <td>...</td>\n",
       "      <td>...</td>\n",
       "      <td>...</td>\n",
       "      <td>...</td>\n",
       "      <td>...</td>\n",
       "      <td>...</td>\n",
       "      <td>...</td>\n",
       "      <td>...</td>\n",
       "    </tr>\n",
       "    <tr>\n",
       "      <th>227</th>\n",
       "      <td>1</td>\n",
       "      <td>56</td>\n",
       "      <td>49</td>\n",
       "      <td>2.757766</td>\n",
       "      <td>98</td>\n",
       "      <td>24</td>\n",
       "      <td>3.920823</td>\n",
       "      <td>1</td>\n",
       "      <td>1</td>\n",
       "      <td>1</td>\n",
       "      <td>1</td>\n",
       "      <td>1</td>\n",
       "      <td>1</td>\n",
       "    </tr>\n",
       "    <tr>\n",
       "      <th>228</th>\n",
       "      <td>1</td>\n",
       "      <td>0</td>\n",
       "      <td>41</td>\n",
       "      <td>3.777793</td>\n",
       "      <td>53</td>\n",
       "      <td>118</td>\n",
       "      <td>3.216432</td>\n",
       "      <td>1</td>\n",
       "      <td>1</td>\n",
       "      <td>1</td>\n",
       "      <td>1</td>\n",
       "      <td>1</td>\n",
       "      <td>1</td>\n",
       "    </tr>\n",
       "    <tr>\n",
       "      <th>229</th>\n",
       "      <td>1</td>\n",
       "      <td>29</td>\n",
       "      <td>40</td>\n",
       "      <td>0.540331</td>\n",
       "      <td>62</td>\n",
       "      <td>70</td>\n",
       "      <td>3.638676</td>\n",
       "      <td>1</td>\n",
       "      <td>1</td>\n",
       "      <td>1</td>\n",
       "      <td>1</td>\n",
       "      <td>2</td>\n",
       "      <td>2</td>\n",
       "    </tr>\n",
       "    <tr>\n",
       "      <th>230</th>\n",
       "      <td>1</td>\n",
       "      <td>0</td>\n",
       "      <td>42</td>\n",
       "      <td>2.819377</td>\n",
       "      <td>0</td>\n",
       "      <td>112</td>\n",
       "      <td>2.369856</td>\n",
       "      <td>1</td>\n",
       "      <td>1</td>\n",
       "      <td>1</td>\n",
       "      <td>1</td>\n",
       "      <td>1</td>\n",
       "      <td>2</td>\n",
       "    </tr>\n",
       "    <tr>\n",
       "      <th>231</th>\n",
       "      <td>1</td>\n",
       "      <td>19</td>\n",
       "      <td>58</td>\n",
       "      <td>1.745901</td>\n",
       "      <td>136</td>\n",
       "      <td>198</td>\n",
       "      <td>3.452460</td>\n",
       "      <td>1</td>\n",
       "      <td>1</td>\n",
       "      <td>2</td>\n",
       "      <td>1</td>\n",
       "      <td>1</td>\n",
       "      <td>2</td>\n",
       "    </tr>\n",
       "  </tbody>\n",
       "</table>\n",
       "<p>232 rows × 13 columns</p>\n",
       "</div>"
      ],
      "text/plain": [
       "     class  protime  age  bilirubin  alk_phosphate  sgot   albumin  spiders  \\\n",
       "0        2        0   30   1.000000             85    18  4.000000        2   \n",
       "1        2        0   78   0.700000             96    32  4.000000        2   \n",
       "2        2       80   31   0.700000             46    52  4.000000        2   \n",
       "3        2        0   34   1.000000              0   200  4.000000        2   \n",
       "4        2       75   34   0.900000             95    28  4.000000        2   \n",
       "..     ...      ...  ...        ...            ...   ...       ...      ...   \n",
       "227      1       56   49   2.757766             98    24  3.920823        1   \n",
       "228      1        0   41   3.777793             53   118  3.216432        1   \n",
       "229      1       29   40   0.540331             62    70  3.638676        1   \n",
       "230      1        0   42   2.819377              0   112  2.369856        1   \n",
       "231      1       19   58   1.745901            136   198  3.452460        1   \n",
       "\n",
       "     malaise  ascites  fatigue  spleen_palpable  varices  \n",
       "0          2        2        2                2        2  \n",
       "1          2        2        1                2        2  \n",
       "2          2        2        2                2        2  \n",
       "3          2        2        2                2        2  \n",
       "4          2        2        2                2        2  \n",
       "..       ...      ...      ...              ...      ...  \n",
       "227        1        1        1                1        1  \n",
       "228        1        1        1                1        1  \n",
       "229        1        1        1                2        2  \n",
       "230        1        1        1                1        2  \n",
       "231        1        2        1                1        2  \n",
       "\n",
       "[232 rows x 13 columns]"
      ]
     },
     "execution_count": 17,
     "metadata": {},
     "output_type": "execute_result"
    }
   ],
   "source": [
    "xfeatures_b"
   ]
  },
  {
   "cell_type": "markdown",
   "metadata": {},
   "source": [
    "# Gaussian Naive Baye"
   ]
  },
  {
   "cell_type": "code",
   "execution_count": 18,
   "metadata": {},
   "outputs": [],
   "source": [
    "from sklearn.metrics import classification_report\n",
    "from sklearn.naive_bayes import GaussianNB\n",
    "\n",
    "from sklearn.model_selection import train_test_split\n",
    "\n",
    "#gia to palio\n",
    "x_train, x_test, y_train, y_test = train_test_split(xfeatures_new,ylabels_new,test_size=0.4,random_state=3)\n",
    "\n",
    "#gia ta skbest\n",
    "x_train_b, x_test_b, y_train_b, y_test_b = train_test_split(xfeatures_b,ylabels_b,test_size=0.4,random_state=3)"
   ]
  },
  {
   "cell_type": "code",
   "execution_count": 19,
   "metadata": {},
   "outputs": [
    {
     "data": {
      "text/plain": [
       "GaussianNB()"
      ]
     },
     "execution_count": 19,
     "metadata": {},
     "output_type": "execute_result"
    }
   ],
   "source": [
    "# gia to palio\n",
    "\n",
    "gnb = GaussianNB()\n",
    "gnb.fit(x_train,y_train)\n"
   ]
  },
  {
   "cell_type": "code",
   "execution_count": 20,
   "metadata": {},
   "outputs": [
    {
     "name": "stdout",
     "output_type": "stream",
     "text": [
      "              precision    recall  f1-score   support\n",
      "\n",
      "      Die(1)       0.85      1.00      0.92        47\n",
      "     Live(2)       1.00      0.83      0.90        46\n",
      "\n",
      "    accuracy                           0.91        93\n",
      "   macro avg       0.93      0.91      0.91        93\n",
      "weighted avg       0.93      0.91      0.91        93\n",
      "\n"
     ]
    }
   ],
   "source": [
    "from sklearn.metrics import classification_report\n",
    "\n",
    "y_pred= gnb.predict(x_test)\n",
    "class_names = ['Die(1)','Live(2)']\n",
    "print(classification_report(y_test,y_pred,target_names=class_names))"
   ]
  },
  {
   "cell_type": "code",
   "execution_count": 21,
   "metadata": {},
   "outputs": [
    {
     "data": {
      "text/plain": [
       "0.9130434782608696"
      ]
     },
     "execution_count": 21,
     "metadata": {},
     "output_type": "execute_result"
    }
   ],
   "source": [
    "from sklearn.metrics import recall_score\n",
    "\n",
    "recall_score(y_test, y_pred, average='macro')"
   ]
  },
  {
   "cell_type": "code",
   "execution_count": 22,
   "metadata": {},
   "outputs": [
    {
     "data": {
      "text/html": [
       "<div>\n",
       "<style scoped>\n",
       "    .dataframe tbody tr th:only-of-type {\n",
       "        vertical-align: middle;\n",
       "    }\n",
       "\n",
       "    .dataframe tbody tr th {\n",
       "        vertical-align: top;\n",
       "    }\n",
       "\n",
       "    .dataframe thead th {\n",
       "        text-align: right;\n",
       "    }\n",
       "</style>\n",
       "<table border=\"1\" class=\"dataframe\">\n",
       "  <thead>\n",
       "    <tr style=\"text-align: right;\">\n",
       "      <th></th>\n",
       "      <th>Predicted Negative</th>\n",
       "      <th>Predicted Positive</th>\n",
       "    </tr>\n",
       "  </thead>\n",
       "  <tbody>\n",
       "    <tr>\n",
       "      <th>Actual Negative</th>\n",
       "      <td>47</td>\n",
       "      <td>0</td>\n",
       "    </tr>\n",
       "    <tr>\n",
       "      <th>Actual Positive</th>\n",
       "      <td>8</td>\n",
       "      <td>38</td>\n",
       "    </tr>\n",
       "  </tbody>\n",
       "</table>\n",
       "</div>"
      ],
      "text/plain": [
       "                 Predicted Negative  Predicted Positive\n",
       "Actual Negative                  47                   0\n",
       "Actual Positive                   8                  38"
      ]
     },
     "execution_count": 22,
     "metadata": {},
     "output_type": "execute_result"
    }
   ],
   "source": [
    "# Importing the metrics package from sklearn library\n",
    "from sklearn import metrics\n",
    "# Creating the confusion matrix\n",
    "cm = metrics.confusion_matrix(y_test, y_pred)\n",
    "# Assigning columns names\n",
    "cm_df = pd.DataFrame(cm, \n",
    "            columns = ['Predicted Negative', 'Predicted Positive'],\n",
    "            index = ['Actual Negative', 'Actual Positive'])\n",
    "# Showing the confusion matrix\n",
    "cm_df"
   ]
  },
  {
   "cell_type": "markdown",
   "metadata": {},
   "source": [
    "## Sensitivity function"
   ]
  },
  {
   "cell_type": "code",
   "execution_count": 23,
   "metadata": {},
   "outputs": [],
   "source": [
    "def calculate_sensitivity_specificity(y_test, y_pred_test):\n",
    "    # Note: More parameters are defined than necessary. \n",
    "    # This would allow return of other measures other than sensitivity and specificity\n",
    "    \n",
    "    # Get true/false for whether a breach actually occurred\n",
    "    actual_pos = y_test == 1\n",
    "    actual_neg = y_test == 0\n",
    "    \n",
    "    # Get true and false test (true test match actual, false tests differ from actual)\n",
    "    true_pos = (y_pred_test == 1) & (actual_pos)\n",
    "    false_pos = (y_pred_test == 1) & (actual_neg)\n",
    "    true_neg = (y_pred_test == 0) & (actual_neg)\n",
    "    false_neg = (y_pred_test == 0) & (actual_pos)\n",
    "    \n",
    "    # Calculate accuracy\n",
    "    accuracy = np.mean(y_pred_test == y_test)\n",
    "    \n",
    "    # Calculate sensitivity and specificity\n",
    "    sensitivity = np.sum(true_pos) / np.sum(actual_pos)\n",
    "    specificity = np.sum(true_neg) / np.sum(actual_neg)\n",
    "    \n",
    "    return sensitivity, specificity, accuracy"
   ]
  },
  {
   "cell_type": "code",
   "execution_count": 24,
   "metadata": {},
   "outputs": [
    {
     "name": "stdout",
     "output_type": "stream",
     "text": [
      "Sensitivity: 1.0\n",
      "Specificity: nan\n",
      "Accuracy: 0.9139784946236559\n"
     ]
    }
   ],
   "source": [
    "sensitivity, specificity, accuracy = calculate_sensitivity_specificity(y_test, y_pred)\n",
    "print ('Sensitivity:', sensitivity)\n",
    "print ('Specificity:', specificity)\n",
    "print ('Accuracy:', accuracy)"
   ]
  },
  {
   "cell_type": "code",
   "execution_count": 25,
   "metadata": {},
   "outputs": [],
   "source": [
    "from sklearn.model_selection import cross_val_score\n",
    "scores = []\n",
    "for k in range(2, 17):\n",
    "    score = cross_val_score(gnb, xfeatures_new, ylabels_new, cv=k, scoring='accuracy').mean()\n",
    "    scores.append(score)"
   ]
  },
  {
   "cell_type": "code",
   "execution_count": 26,
   "metadata": {},
   "outputs": [
    {
     "name": "stdout",
     "output_type": "stream",
     "text": [
      "85.57971014492753\n",
      "89.22294172062905\n",
      "88.50840336134453\n",
      "88.5185185185185\n",
      "88.46618357487922\n",
      "89.2857142857143\n",
      "89.21568627450979\n",
      "89.16666666666667\n",
      "88.57142857142858\n",
      "89.33566433566433\n",
      "89.26767676767676\n",
      "89.37062937062937\n",
      "89.2857142857143\n",
      "89.11111111111111\n",
      "89.40972222222221\n",
      "89.13398692810458\n",
      "89.38492063492063\n",
      "89.28571428571429\n",
      "its 14 for 89.40972222222221\n"
     ]
    }
   ],
   "source": [
    "score_acc=[]\n",
    "for i in range(2,20):\n",
    "    accuracy = cross_val_score(gnb, x_train, y_train, scoring='accuracy', cv = i)\n",
    "    print(accuracy.mean()*100)\n",
    "    #get the mean of each fold \n",
    "    a = accuracy.mean() * 100\n",
    "    score_acc.append(a)\n",
    "\n",
    "    #print(i,\"Accuracy of Model with Cross Validation is:\",accuracy.mean() * 100)"
   ]
  },
  {
   "cell_type": "code",
   "execution_count": 27,
   "metadata": {},
   "outputs": [],
   "source": [
    "def print_kfold_fig(scores):\n",
    "    fig = plt.figure(figsize=(12, 6))\n",
    "    ax = fig.add_subplot()\n",
    "    ax.plot(range(2, 20), scores, color='grey', linestyle='dashed', marker='o',\n",
    "         markerfacecolor='#95B5D3', markersize=10)\n",
    "    ax.set_title('Mean Accuracy for k Folds')\n",
    "    ax.set_xlabel('K fold Value')\n",
    "    ax.set_ylabel('Mean Accuracy')\n",
    "    plt.xticks(np.arange(2, 20+1, 1.0))\n",
    "#a = round(scores[9],2)*100"
   ]
  },
  {
   "cell_type": "code",
   "execution_count": 28,
   "metadata": {},
   "outputs": [
    {
     "data": {
      "text/plain": [
       "([<matplotlib.axis.XTick at 0x275bd43ad48>,\n",
       "  <matplotlib.axis.XTick at 0x275bd450f08>,\n",
       "  <matplotlib.axis.XTick at 0x275bd4504c8>,\n",
       "  <matplotlib.axis.XTick at 0x275bd4814c8>,\n",
       "  <matplotlib.axis.XTick at 0x275bd481b48>,\n",
       "  <matplotlib.axis.XTick at 0x275bd485388>,\n",
       "  <matplotlib.axis.XTick at 0x275bd485f48>,\n",
       "  <matplotlib.axis.XTick at 0x275bd489ac8>,\n",
       "  <matplotlib.axis.XTick at 0x275bd48c6c8>,\n",
       "  <matplotlib.axis.XTick at 0x275bd4921c8>,\n",
       "  <matplotlib.axis.XTick at 0x275bd492d48>,\n",
       "  <matplotlib.axis.XTick at 0x275bd4958c8>,\n",
       "  <matplotlib.axis.XTick at 0x275bd498448>,\n",
       "  <matplotlib.axis.XTick at 0x275bd485448>,\n",
       "  <matplotlib.axis.XTick at 0x275bd498cc8>,\n",
       "  <matplotlib.axis.XTick at 0x275bd49c6c8>,\n",
       "  <matplotlib.axis.XTick at 0x275bd49f088>,\n",
       "  <matplotlib.axis.XTick at 0x275bd49fb08>,\n",
       "  <matplotlib.axis.XTick at 0x275bd4a2688>],\n",
       " [Text(0, 0, ''),\n",
       "  Text(0, 0, ''),\n",
       "  Text(0, 0, ''),\n",
       "  Text(0, 0, ''),\n",
       "  Text(0, 0, ''),\n",
       "  Text(0, 0, ''),\n",
       "  Text(0, 0, ''),\n",
       "  Text(0, 0, ''),\n",
       "  Text(0, 0, ''),\n",
       "  Text(0, 0, ''),\n",
       "  Text(0, 0, ''),\n",
       "  Text(0, 0, ''),\n",
       "  Text(0, 0, ''),\n",
       "  Text(0, 0, ''),\n",
       "  Text(0, 0, ''),\n",
       "  Text(0, 0, ''),\n",
       "  Text(0, 0, ''),\n",
       "  Text(0, 0, ''),\n",
       "  Text(0, 0, '')])"
      ]
     },
     "execution_count": 28,
     "metadata": {},
     "output_type": "execute_result"
    },
    {
     "data": {
      "image/png": "[encoded data removed]",
      "text/plain": [
       "<Figure size 864x432 with 1 Axes>"
      ]
     },
     "metadata": {
      "needs_background": "light"
     },
     "output_type": "display_data"
    }
   ],
   "source": [
    "fig = plt.figure(figsize=(12, 6))\n",
    "ax = fig.add_subplot()\n",
    "ax.plot(range(2, 20), score_acc, color='grey', linestyle='dashed', marker='o',\n",
    "         markerfacecolor='#95B5D3', markersize=10)\n",
    "ax.set_title('Mean Accuracy for k Folds')\n",
    "ax.set_xlabel('K fold Value')\n",
    "ax.set_ylabel('Mean Accuracy')\n",
    "plt.xticks(np.arange(2, 20+1, 1.0))\n",
    "#a = round(scores[9],2)*100\n",
    "#a=str(a)+'%'\n",
    "#ax.annotate(a, xy=(11, scores[9]), xytext=(11, 0.88), fontsize=12)"
   ]
  },
  {
   "cell_type": "code",
   "execution_count": 30,
   "metadata": {},
   "outputs": [
    {
     "name": "stdout",
     "output_type": "stream",
     "text": [
      "Accuracy of Model with Cross Validation is: 89.40972222222221\n"
     ]
    }
   ],
   "source": [
    "accuracy = cross_val_score(gnb, x_train, y_train, scoring='accuracy', cv = 16)\n",
    "\n",
    "#get the mean of each fold \n",
    "print(\"Accuracy of Model with Cross Validation is:\",accuracy.mean() * 100)"
   ]
  },
  {
   "cell_type": "code",
   "execution_count": 33,
   "metadata": {},
   "outputs": [
    {
     "name": "stdout",
     "output_type": "stream",
     "text": [
      "              precision    recall  f1-score   support\n",
      "\n",
      "      Die(1)       1.00      1.00      1.00        47\n",
      "     Live(2)       1.00      1.00      1.00        46\n",
      "\n",
      "    accuracy                           1.00        93\n",
      "   macro avg       1.00      1.00      1.00        93\n",
      "weighted avg       1.00      1.00      1.00        93\n",
      "\n"
     ]
    },
    {
     "data": {
      "text/plain": [
       "1.0"
      ]
     },
     "execution_count": 33,
     "metadata": {},
     "output_type": "execute_result"
    }
   ],
   "source": [
    "gnb.fit(x_train_b,y_train_b)\n",
    "y_pred_b= gnb.predict(x_test_b)\n",
    "class_names = ['Die(1)','Live(2)']\n",
    "print(classification_report(y_test_b,y_pred_b,target_names=class_names))\n",
    "recall_score(y_test_b, y_pred_b, average='macro')"
   ]
  },
  {
   "cell_type": "code",
   "execution_count": 34,
   "metadata": {},
   "outputs": [
    {
     "name": "stdout",
     "output_type": "stream",
     "text": [
      "97.13250517598344\n",
      "100.0\n",
      "100.0\n",
      "100.0\n",
      "100.0\n",
      "100.0\n",
      "100.0\n",
      "100.0\n",
      "100.0\n",
      "100.0\n",
      "100.0\n",
      "100.0\n",
      "100.0\n",
      "100.0\n",
      "100.0\n",
      "100.0\n",
      "100.0\n",
      "100.0\n",
      "its 3 for 100.0\n"
     ]
    }
   ],
   "source": [
    "score_acc=[]\n",
    "for i in range(2,20):\n",
    "    accuracy = cross_val_score(gnb, x_train_b, y_train_b, scoring='accuracy', cv = i)\n",
    "    print(accuracy.mean()*100)\n",
    "    #get the mean of each fold \n",
    "    a = accuracy.mean() * 100\n",
    "    score_acc.append(a)\n",
    "\n",
    "b = max(score_acc)\n",
    "o = score_acc.index(b)\n",
    "print('its',o+2,'for',b)"
   ]
  },
  {
   "cell_type": "code",
   "execution_count": 35,
   "metadata": {},
   "outputs": [
    {
     "data": {
      "image/png": "[encoded data removed]",
      "text/plain": [
       "<Figure size 864x432 with 1 Axes>"
      ]
     },
     "metadata": {
      "needs_background": "light"
     },
     "output_type": "display_data"
    }
   ],
   "source": [
    "print_kfold_fig(score_acc)"
   ]
  },
  {
   "cell_type": "markdown",
   "metadata": {},
   "source": [
    "## Support Vector Machines"
   ]
  },
  {
   "cell_type": "code",
   "execution_count": 36,
   "metadata": {},
   "outputs": [],
   "source": [
    "from sklearn import svm\n",
    "from sklearn.svm import SVC"
   ]
  },
  {
   "cell_type": "code",
   "execution_count": 37,
   "metadata": {},
   "outputs": [
    {
     "name": "stdout",
     "output_type": "stream",
     "text": [
      "              precision    recall  f1-score   support\n",
      "\n",
      "      Die(1)       1.00      0.45      0.62        47\n",
      "     Live(2)       0.64      1.00      0.78        46\n",
      "\n",
      "    accuracy                           0.72        93\n",
      "   macro avg       0.82      0.72      0.70        93\n",
      "weighted avg       0.82      0.72      0.70        93\n",
      "\n"
     ]
    }
   ],
   "source": [
    "### without features\n",
    "svc=SVC(kernel=\"rbf\",gamma=\"auto\", C=1) \n",
    "svc.fit(x_train, y_train)\n",
    "SVMprediction = svc.predict(x_test)\n",
    "class_names = ['Die(1)','Live(2)']\n",
    "print(classification_report(y_test,SVMprediction,target_names=class_names))"
   ]
  },
  {
   "cell_type": "code",
   "execution_count": 38,
   "metadata": {},
   "outputs": [
    {
     "data": {
      "text/plain": [
       "0.7234042553191489"
      ]
     },
     "execution_count": 38,
     "metadata": {},
     "output_type": "execute_result"
    }
   ],
   "source": [
    "\n",
    "recall_score(y_test, SVMprediction, average='macro')"
   ]
  },
  {
   "cell_type": "code",
   "execution_count": 39,
   "metadata": {},
   "outputs": [
    {
     "name": "stdout",
     "output_type": "stream",
     "text": [
      "63.2919254658385\n",
      "62.611779216774586\n",
      "64.74789915966386\n",
      "64.76190476190476\n",
      "64.76449275362319\n",
      "64.77443609022558\n",
      "64.86928104575163\n",
      "66.89814814814814\n",
      "67.03296703296702\n",
      "66.78321678321679\n",
      "66.79292929292929\n",
      "66.85314685314687\n",
      "67.77777777777779\n",
      "67.7037037037037\n",
      "67.53472222222221\n",
      "67.56535947712418\n",
      "66.86507936507937\n",
      "66.9172932330827\n",
      "its 14 for 67.77777777777779\n"
     ]
    }
   ],
   "source": [
    "score_acc=[]\n",
    "for i in range(2,20):\n",
    "    accuracy = cross_val_score(svc, x_train, y_train, scoring='accuracy', cv = i)\n",
    "    print(accuracy.mean()*100)\n",
    "    #get the mean of each fold \n",
    "    a = accuracy.mean() * 100\n",
    "    score_acc.append(a)\n",
    "b = max(score_acc)\n",
    "o = score_acc.index(b)\n",
    "print('its',o+2,'for',b)"
   ]
  },
  {
   "cell_type": "code",
   "execution_count": 40,
   "metadata": {},
   "outputs": [
    {
     "data": {
      "image/png": "[encoded data removed]",
      "text/plain": [
       "<Figure size 864x432 with 1 Axes>"
      ]
     },
     "metadata": {
      "needs_background": "light"
     },
     "output_type": "display_data"
    }
   ],
   "source": [
    "print_kfold_fig(score_acc)"
   ]
  },
  {
   "cell_type": "code",
   "execution_count": 41,
   "metadata": {},
   "outputs": [
    {
     "data": {
      "text/plain": [
       "Text(10, 0.7499, '75.0%')"
      ]
     },
     "execution_count": 41,
     "metadata": {},
     "output_type": "execute_result"
    },
    {
     "data": {
      "image/png": "[encoded data removed]",
      "text/plain": [
       "<Figure size 864x432 with 1 Axes>"
      ]
     },
     "metadata": {
      "needs_background": "light"
     },
     "output_type": "display_data"
    }
   ],
   "source": [
    "scores = []\n",
    "for k in range(2, 15):\n",
    "    score = cross_val_score(svc, xfeatures_new, ylabels_new, cv=k, scoring='accuracy').mean()\n",
    "    scores.append(score)\n",
    "scores\n",
    "fig = plt.figure(figsize=(12, 6))\n",
    "ax = fig.add_subplot()\n",
    "ax.plot(range(2, 15), scores, color='grey', linestyle='dashed', marker='o',\n",
    "         markerfacecolor='#95B5D3', markersize=10)\n",
    "ax.set_title('Accuracy for k Folds')\n",
    "ax.set_xlabel('K fold Value')\n",
    "ax.set_ylabel('Accuracy')\n",
    "a = float(\"{:.2f}\".format(scores[6]))*100\n",
    "a=str(a)+'%'\n",
    "ax.annotate(a, xy=(10, scores[6]), xytext=(10, 0.7499), fontsize=12)"
   ]
  },
  {
   "cell_type": "code",
   "execution_count": 42,
   "metadata": {},
   "outputs": [
    {
     "name": "stdout",
     "output_type": "stream",
     "text": [
      "[0.71428571 0.71428571 0.57142857 0.57142857 0.85714286 0.71428571\n",
      " 0.57142857 0.64285714 0.5        0.84615385]\n",
      "Accuracy of Model with Cross Validation is: 67.03296703296702\n"
     ]
    }
   ],
   "source": [
    "accuracy = cross_val_score(svc, x_train, y_train, scoring='accuracy', cv = 10)\n",
    "print(accuracy)\n",
    "#get the mean of each fold \n",
    "print(\"Accuracy of Model with Cross Validation is:\",accuracy.mean() * 100)"
   ]
  },
  {
   "cell_type": "code",
   "execution_count": 43,
   "metadata": {},
   "outputs": [
    {
     "name": "stdout",
     "output_type": "stream",
     "text": [
      "2 Accuracy of Model with Cross Validation is: 63.2919254658385\n",
      "3 Accuracy of Model with Cross Validation is: 62.611779216774586\n",
      "4 Accuracy of Model with Cross Validation is: 64.74789915966386\n",
      "5 Accuracy of Model with Cross Validation is: 64.76190476190476\n",
      "6 Accuracy of Model with Cross Validation is: 64.76449275362319\n",
      "7 Accuracy of Model with Cross Validation is: 64.77443609022558\n",
      "8 Accuracy of Model with Cross Validation is: 64.86928104575163\n",
      "9 Accuracy of Model with Cross Validation is: 66.89814814814814\n",
      "10 Accuracy of Model with Cross Validation is: 67.03296703296702\n",
      "11 Accuracy of Model with Cross Validation is: 66.78321678321679\n",
      "12 Accuracy of Model with Cross Validation is: 66.79292929292929\n",
      "13 Accuracy of Model with Cross Validation is: 66.85314685314687\n",
      "14 Accuracy of Model with Cross Validation is: 67.77777777777779\n",
      "15 Accuracy of Model with Cross Validation is: 67.7037037037037\n",
      "16 Accuracy of Model with Cross Validation is: 67.53472222222221\n",
      "17 Accuracy of Model with Cross Validation is: 67.56535947712418\n",
      "18 Accuracy of Model with Cross Validation is: 66.86507936507937\n",
      "19 Accuracy of Model with Cross Validation is: 66.9172932330827\n"
     ]
    }
   ],
   "source": [
    "for i in range(2,20):\n",
    "    accuracy = cross_val_score(svc, x_train, y_train, scoring='accuracy', cv = i)\n",
    "    #print(accuracy)\n",
    "    #get the mean of each fold \n",
    "    print(i,\"Accuracy of Model with Cross Validation is:\",accuracy.mean() * 100)"
   ]
  },
  {
   "cell_type": "code",
   "execution_count": 44,
   "metadata": {},
   "outputs": [
    {
     "name": "stdout",
     "output_type": "stream",
     "text": [
      "              precision    recall  f1-score   support\n",
      "\n",
      "      Die(1)       1.00      0.40      0.58        47\n",
      "     Live(2)       0.62      1.00      0.77        46\n",
      "\n",
      "    accuracy                           0.70        93\n",
      "   macro avg       0.81      0.70      0.67        93\n",
      "weighted avg       0.81      0.70      0.67        93\n",
      "\n"
     ]
    }
   ],
   "source": [
    "#with skbest\n",
    "svc.fit(x_train_b, y_train_b)\n",
    "SVMprediction = svc.predict(x_test_b)\n",
    "class_names = ['Die(1)','Live(2)']\n",
    "print(classification_report(y_test_b,SVMprediction,target_names=class_names))"
   ]
  },
  {
   "cell_type": "code",
   "execution_count": 45,
   "metadata": {},
   "outputs": [
    {
     "data": {
      "text/plain": [
       "0.7021276595744681"
      ]
     },
     "execution_count": 45,
     "metadata": {},
     "output_type": "execute_result"
    }
   ],
   "source": [
    "recall_score(y_test_b, SVMprediction, average='macro')"
   ]
  },
  {
   "cell_type": "code",
   "execution_count": 49,
   "metadata": {},
   "outputs": [
    {
     "name": "stdout",
     "output_type": "stream",
     "text": [
      "54.72049689440994\n",
      "61.16250385445575\n",
      "64.0126050420168\n",
      "63.33333333333333\n",
      "63.31521739130434\n",
      "64.06015037593986\n",
      "63.39869281045751\n",
      "65.41666666666667\n",
      "65.60439560439559\n",
      "65.32634032634031\n",
      "65.34090909090908\n",
      "66.0839160839161\n",
      "64.92063492063492\n",
      "64.74074074074073\n",
      "64.67013888888889\n",
      "64.62418300653594\n",
      "65.37698412698414\n",
      "65.41353383458647\n",
      "its 13 for 66.0839160839161\n"
     ]
    }
   ],
   "source": [
    "score_acc=[]\n",
    "for i in range(2,20):\n",
    "    accuracy = cross_val_score(svc, x_train_b, y_train_b, scoring='accuracy', cv = i)\n",
    "    print(accuracy.mean()*100)\n",
    "    #get the mean of each fold \n",
    "    a = accuracy.mean() * 100\n",
    "    score_acc.append(a)\n",
    "b = max(score_acc)\n",
    "o = score_acc.index(b)\n",
    "print('its',o+2,'for',b)"
   ]
  },
  {
   "cell_type": "code",
   "execution_count": 50,
   "metadata": {},
   "outputs": [
    {
     "data": {
      "image/png": "[encoded data removed]",
      "text/plain": [
       "<Figure size 864x432 with 1 Axes>"
      ]
     },
     "metadata": {
      "needs_background": "light"
     },
     "output_type": "display_data"
    }
   ],
   "source": [
    "print_kfold_fig(score_acc)"
   ]
  },
  {
   "cell_type": "markdown",
   "metadata": {},
   "source": [
    "## Logistic Regression"
   ]
  },
  {
   "cell_type": "code",
   "execution_count": 51,
   "metadata": {},
   "outputs": [],
   "source": [
    "from sklearn.linear_model import LogisticRegression"
   ]
  },
  {
   "cell_type": "code",
   "execution_count": 52,
   "metadata": {},
   "outputs": [
    {
     "name": "stdout",
     "output_type": "stream",
     "text": [
      "              precision    recall  f1-score   support\n",
      "\n",
      "      Die(1)       0.89      0.89      0.89        47\n",
      "     Live(2)       0.89      0.89      0.89        46\n",
      "\n",
      "    accuracy                           0.89        93\n",
      "   macro avg       0.89      0.89      0.89        93\n",
      "weighted avg       0.89      0.89      0.89        93\n",
      "\n"
     ]
    }
   ],
   "source": [
    "logreg = LogisticRegression()\n",
    "logreg.fit(x_train,y_train)\n",
    "logpred = logreg.predict(x_test)\n",
    "print(classification_report(y_test,logpred,target_names=class_names))"
   ]
  },
  {
   "cell_type": "code",
   "execution_count": 53,
   "metadata": {},
   "outputs": [
    {
     "data": {
      "text/plain": [
       "0.8924606845513413"
      ]
     },
     "execution_count": 53,
     "metadata": {},
     "output_type": "execute_result"
    }
   ],
   "source": [
    "recall_score(y_test, logpred, average='macro')"
   ]
  },
  {
   "cell_type": "code",
   "execution_count": 54,
   "metadata": {},
   "outputs": [
    {
     "name": "stdout",
     "output_type": "stream",
     "text": [
      "87.03933747412009\n",
      "86.29355534998457\n",
      "87.0798319327731\n",
      "87.83068783068784\n",
      "87.77173913043477\n",
      "86.39097744360903\n",
      "84.06862745098039\n",
      "86.29629629629629\n",
      "85.71428571428574\n",
      "85.66433566433567\n",
      "87.12121212121211\n",
      "85.87412587412587\n",
      "84.28571428571429\n",
      "84.96296296296298\n",
      "86.71875\n",
      "87.09150326797386\n",
      "86.60714285714286\n",
      "86.27819548872179\n",
      "its 5 for 87.83068783068784\n"
     ]
    }
   ],
   "source": [
    "score_acc=[]\n",
    "for i in range(2,20):\n",
    "    accuracy = cross_val_score(logreg, x_train, y_train, scoring='accuracy', cv = i)\n",
    "    print(accuracy.mean()*100)\n",
    "    #get the mean of each fold \n",
    "    a = accuracy.mean() * 100\n",
    "    score_acc.append(a)\n",
    "b = max(score_acc)\n",
    "o = score_acc.index(b)\n",
    "print('its',o+2,'for',b)"
   ]
  },
  {
   "cell_type": "code",
   "execution_count": 55,
   "metadata": {},
   "outputs": [
    {
     "data": {
      "image/png": "[encoded data removed]",
      "text/plain": [
       "<Figure size 864x432 with 1 Axes>"
      ]
     },
     "metadata": {
      "needs_background": "light"
     },
     "output_type": "display_data"
    }
   ],
   "source": [
    "print_kfold_fig(score_acc)"
   ]
  },
  {
   "cell_type": "code",
   "execution_count": 58,
   "metadata": {},
   "outputs": [
    {
     "name": "stdout",
     "output_type": "stream",
     "text": [
      "              precision    recall  f1-score   support\n",
      "\n",
      "      Die(1)       0.98      0.98      0.98        47\n",
      "     Live(2)       0.98      0.98      0.98        46\n",
      "\n",
      "    accuracy                           0.98        93\n",
      "   macro avg       0.98      0.98      0.98        93\n",
      "weighted avg       0.98      0.98      0.98        93\n",
      "\n"
     ]
    }
   ],
   "source": [
    "logreg.fit(x_train_b, y_train_b)\n",
    "logprediction = logreg.predict(x_test_b)\n",
    "class_names = ['Die(1)','Live(2)']\n",
    "print(classification_report(y_test_b,logprediction,target_names=class_names))"
   ]
  },
  {
   "cell_type": "code",
   "execution_count": 59,
   "metadata": {},
   "outputs": [
    {
     "data": {
      "text/plain": [
       "0.9784921369102683"
      ]
     },
     "execution_count": 59,
     "metadata": {},
     "output_type": "execute_result"
    }
   ],
   "source": [
    "recall_score(y_test_b, logprediction, average='macro')"
   ]
  },
  {
   "cell_type": "code",
   "execution_count": 60,
   "metadata": {},
   "outputs": [
    {
     "name": "stdout",
     "output_type": "stream",
     "text": [
      "93.48861283643892\n",
      "96.3922294172063\n",
      "96.40756302521008\n",
      "97.14285714285715\n",
      "96.40700483091787\n",
      "98.57142857142858\n",
      "97.83496732026144\n",
      "96.3425925925926\n",
      "97.85714285714286\n",
      "95.68764568764568\n",
      "95.58080808080808\n",
      "97.83216783216784\n",
      "97.14285714285715\n",
      "97.85185185185186\n",
      "96.44097222222221\n",
      "95.66993464052288\n",
      "98.51190476190477\n",
      "97.08646616541354\n",
      "its 7 for 98.57142857142858\n"
     ]
    }
   ],
   "source": [
    "score_acc=[]\n",
    "for i in range(2,20):\n",
    "    accuracy = cross_val_score(logreg, x_train_b, y_train_b, scoring='accuracy', cv = i)\n",
    "    print(accuracy.mean()*100)\n",
    "    #get the mean of each fold \n",
    "    a = accuracy.mean() * 100\n",
    "    score_acc.append(a)\n",
    "b = max(score_acc)\n",
    "o = score_acc.index(b)\n",
    "print('its',o+2,'for',b)"
   ]
  },
  {
   "cell_type": "code",
   "execution_count": 61,
   "metadata": {},
   "outputs": [
    {
     "data": {
      "image/png": "[encoded data removed]",
      "text/plain": [
       "<Figure size 864x432 with 1 Axes>"
      ]
     },
     "metadata": {
      "needs_background": "light"
     },
     "output_type": "display_data"
    }
   ],
   "source": [
    "print_kfold_fig(score_acc)"
   ]
  },
  {
   "cell_type": "markdown",
   "metadata": {},
   "source": [
    "## Decission trees"
   ]
  },
  {
   "cell_type": "code",
   "execution_count": 62,
   "metadata": {},
   "outputs": [
    {
     "data": {
      "text/plain": [
       "[Text(635.7980769230769, 815.4, 'X[16] <= 3.865\\ngini = 0.5\\nsamples = 139\\nvalue = [69, 70]'),\n",
       " Text(434.5961538461538, 706.6800000000001, 'X[10] <= 1.5\\ngini = 0.34\\nsamples = 83\\nvalue = [65, 18]'),\n",
       " Text(311.1923076923077, 597.96, 'X[14] <= 172.5\\ngini = 0.208\\nsamples = 68\\nvalue = [60, 8]'),\n",
       " Text(193.15384615384613, 489.24, 'X[13] <= 0.688\\ngini = 0.144\\nsamples = 64\\nvalue = [59, 5]'),\n",
       " Text(85.84615384615384, 380.52, 'X[0] <= 50.0\\ngini = 0.49\\nsamples = 7\\nvalue = [4, 3]'),\n",
       " Text(42.92307692307692, 271.79999999999995, 'gini = 0.0\\nsamples = 3\\nvalue = [0, 3]'),\n",
       " Text(128.76923076923077, 271.79999999999995, 'gini = 0.0\\nsamples = 4\\nvalue = [4, 0]'),\n",
       " Text(300.46153846153845, 380.52, 'X[17] <= 53.5\\ngini = 0.068\\nsamples = 57\\nvalue = [55, 2]'),\n",
       " Text(214.61538461538458, 271.79999999999995, 'X[16] <= 3.484\\ngini = 0.036\\nsamples = 55\\nvalue = [54, 1]'),\n",
       " Text(171.69230769230768, 163.08000000000004, 'gini = 0.0\\nsamples = 46\\nvalue = [46, 0]'),\n",
       " Text(257.53846153846155, 163.08000000000004, 'X[14] <= 108.5\\ngini = 0.198\\nsamples = 9\\nvalue = [8, 1]'),\n",
       " Text(214.61538461538458, 54.360000000000014, 'gini = 0.0\\nsamples = 8\\nvalue = [8, 0]'),\n",
       " Text(300.46153846153845, 54.360000000000014, 'gini = 0.0\\nsamples = 1\\nvalue = [0, 1]'),\n",
       " Text(386.30769230769226, 271.79999999999995, 'X[15] <= 148.5\\ngini = 0.5\\nsamples = 2\\nvalue = [1, 1]'),\n",
       " Text(343.38461538461536, 163.08000000000004, 'gini = 0.0\\nsamples = 1\\nvalue = [1, 0]'),\n",
       " Text(429.23076923076917, 163.08000000000004, 'gini = 0.0\\nsamples = 1\\nvalue = [0, 1]'),\n",
       " Text(429.23076923076917, 489.24, 'X[13] <= 1.843\\ngini = 0.375\\nsamples = 4\\nvalue = [1, 3]'),\n",
       " Text(386.30769230769226, 380.52, 'gini = 0.0\\nsamples = 3\\nvalue = [0, 3]'),\n",
       " Text(472.15384615384613, 380.52, 'gini = 0.0\\nsamples = 1\\nvalue = [1, 0]'),\n",
       " Text(558.0, 597.96, 'X[15] <= 46.5\\ngini = 0.444\\nsamples = 15\\nvalue = [5, 10]'),\n",
       " Text(515.0769230769231, 489.24, 'gini = 0.0\\nsamples = 6\\nvalue = [0, 6]'),\n",
       " Text(600.9230769230769, 489.24, 'X[15] <= 62.5\\ngini = 0.494\\nsamples = 9\\nvalue = [5, 4]'),\n",
       " Text(558.0, 380.52, 'gini = 0.0\\nsamples = 3\\nvalue = [3, 0]'),\n",
       " Text(643.8461538461538, 380.52, 'X[13] <= 2.05\\ngini = 0.444\\nsamples = 6\\nvalue = [2, 4]'),\n",
       " Text(600.9230769230769, 271.79999999999995, 'gini = 0.0\\nsamples = 3\\nvalue = [0, 3]'),\n",
       " Text(686.7692307692307, 271.79999999999995, 'X[17] <= 53.0\\ngini = 0.444\\nsamples = 3\\nvalue = [2, 1]'),\n",
       " Text(643.8461538461538, 163.08000000000004, 'gini = 0.0\\nsamples = 2\\nvalue = [2, 0]'),\n",
       " Text(729.6923076923076, 163.08000000000004, 'gini = 0.0\\nsamples = 1\\nvalue = [0, 1]'),\n",
       " Text(836.9999999999999, 706.6800000000001, 'X[12] <= 1.5\\ngini = 0.133\\nsamples = 56\\nvalue = [4, 52]'),\n",
       " Text(729.6923076923076, 597.96, 'X[6] <= 1.5\\ngini = 0.5\\nsamples = 4\\nvalue = [2, 2]'),\n",
       " Text(686.7692307692307, 489.24, 'gini = 0.0\\nsamples = 2\\nvalue = [0, 2]'),\n",
       " Text(772.6153846153845, 489.24, 'gini = 0.0\\nsamples = 2\\nvalue = [2, 0]'),\n",
       " Text(944.3076923076923, 597.96, 'X[13] <= 0.574\\ngini = 0.074\\nsamples = 52\\nvalue = [2, 50]'),\n",
       " Text(858.4615384615383, 489.24, 'X[15] <= 33.0\\ngini = 0.5\\nsamples = 2\\nvalue = [1, 1]'),\n",
       " Text(815.5384615384614, 380.52, 'gini = 0.0\\nsamples = 1\\nvalue = [0, 1]'),\n",
       " Text(901.3846153846154, 380.52, 'gini = 0.0\\nsamples = 1\\nvalue = [1, 0]'),\n",
       " Text(1030.1538461538462, 489.24, 'X[13] <= 0.65\\ngini = 0.039\\nsamples = 50\\nvalue = [1, 49]'),\n",
       " Text(987.2307692307692, 380.52, 'X[10] <= 1.5\\ngini = 0.278\\nsamples = 6\\nvalue = [1, 5]'),\n",
       " Text(944.3076923076923, 271.79999999999995, 'gini = 0.0\\nsamples = 1\\nvalue = [1, 0]'),\n",
       " Text(1030.1538461538462, 271.79999999999995, 'gini = 0.0\\nsamples = 5\\nvalue = [0, 5]'),\n",
       " Text(1073.076923076923, 380.52, 'gini = 0.0\\nsamples = 44\\nvalue = [0, 44]')]"
      ]
     },
     "execution_count": 62,
     "metadata": {},
     "output_type": "execute_result"
    },
    {
     "data": {
      "image/png": "[encoded data removed]",
      "text/plain": [
       "<Figure size 1440x1152 with 1 Axes>"
      ]
     },
     "metadata": {
      "needs_background": "light"
     },
     "output_type": "display_data"
    }
   ],
   "source": [
    "from sklearn import tree\n",
    "\n",
    "clf = tree.DecisionTreeClassifier()\n",
    "clf = clf.fit(x_train, y_train)\n",
    "\n",
    "plt.figure(figsize=(20,16))\n",
    "tree.plot_tree(clf) \n"
   ]
  },
  {
   "cell_type": "code",
   "execution_count": 63,
   "metadata": {},
   "outputs": [
    {
     "name": "stdout",
     "output_type": "stream",
     "text": [
      "Accuracy: 0.7634408602150538\n",
      "              precision    recall  f1-score   support\n",
      "\n",
      "      Die(1)       0.77      0.77      0.77        47\n",
      "     Live(2)       0.76      0.76      0.76        46\n",
      "\n",
      "    accuracy                           0.76        93\n",
      "   macro avg       0.76      0.76      0.76        93\n",
      "weighted avg       0.76      0.76      0.76        93\n",
      "\n"
     ]
    }
   ],
   "source": [
    "y_pred = clf.predict(x_test)\n",
    "class_names = ['Die(1)','Live(2)']\n",
    "print(\"Accuracy:\",metrics.accuracy_score(y_test, y_pred))\n",
    "\n",
    "print(classification_report(y_test,y_pred,target_names=class_names))"
   ]
  },
  {
   "cell_type": "code",
   "execution_count": 64,
   "metadata": {},
   "outputs": [
    {
     "data": {
      "text/plain": [
       "0.763413506012951"
      ]
     },
     "execution_count": 64,
     "metadata": {},
     "output_type": "execute_result"
    }
   ],
   "source": [
    "recall_score(y_test, y_pred, average='macro')"
   ]
  },
  {
   "cell_type": "code",
   "execution_count": 65,
   "metadata": {},
   "outputs": [
    {
     "name": "stdout",
     "output_type": "stream",
     "text": [
      "81.99792960662526\n",
      "80.58896083872958\n",
      "84.18067226890756\n",
      "84.2063492063492\n",
      "81.94444444444446\n",
      "84.88721804511277\n",
      "84.92647058823529\n",
      "79.12037037037038\n",
      "81.37362637362638\n",
      "85.66433566433567\n",
      "80.61868686868686\n",
      "81.95804195804196\n",
      "82.77777777777779\n",
      "82.59259259259261\n",
      "83.50694444444444\n",
      "82.51633986928105\n",
      "82.14285714285715\n",
      "80.5451127819549\n",
      "its 11 for 85.66433566433567\n"
     ]
    }
   ],
   "source": [
    "score_acc=[]\n",
    "for i in range(2,20):\n",
    "    accuracy = cross_val_score(clf, x_train, y_train, scoring='accuracy', cv = i)\n",
    "    print(accuracy.mean()*100)\n",
    "    #get the mean of each fold \n",
    "    a = accuracy.mean() * 100\n",
    "    score_acc.append(a)\n",
    "b = max(score_acc)\n",
    "o = score_acc.index(b)\n",
    "print('its',o+2,'for',b)"
   ]
  },
  {
   "cell_type": "code",
   "execution_count": 66,
   "metadata": {},
   "outputs": [
    {
     "data": {
      "image/png": "[encoded data removed]",
      "text/plain": [
       "<Figure size 864x432 with 1 Axes>"
      ]
     },
     "metadata": {
      "needs_background": "light"
     },
     "output_type": "display_data"
    }
   ],
   "source": [
    "print_kfold_fig(score_acc)"
   ]
  },
  {
   "cell_type": "code",
   "execution_count": 67,
   "metadata": {},
   "outputs": [
    {
     "data": {
      "text/plain": [
       "[0.75,\n",
       " 0.8018093018093019,\n",
       " 0.8706896551724138,\n",
       " 0.8364477335800184,\n",
       " 0.8228744939271256,\n",
       " 0.8581614463967406,\n",
       " 0.8620689655172413,\n",
       " 0.8663247863247863,\n",
       " 0.8757246376811594,\n",
       " 0.875245966155057,\n",
       " 0.857894736842105,\n",
       " 0.8612368024132729,\n",
       " 0.8618697478991597,\n",
       " 0.8752777777777779,\n",
       " 0.8624999999999999]"
      ]
     },
     "execution_count": 67,
     "metadata": {},
     "output_type": "execute_result"
    }
   ],
   "source": [
    "scores = []\n",
    "for k in range(2, 17):\n",
    "    score = cross_val_score(clf, xfeatures_new, ylabels_new, cv=k, scoring='accuracy').mean()\n",
    "    scores.append(score)\n",
    "scores"
   ]
  },
  {
   "cell_type": "code",
   "execution_count": 68,
   "metadata": {},
   "outputs": [
    {
     "data": {
      "text/plain": [
       "[Text(558.0, 652.3199999999999, 'X[0] <= 1.5\\ngini = 0.5\\nsamples = 139\\nvalue = [69, 70]'),\n",
       " Text(279.0, 217.44000000000005, 'gini = 0.0\\nsamples = 69\\nvalue = [69, 0]'),\n",
       " Text(837.0, 217.44000000000005, 'gini = 0.0\\nsamples = 70\\nvalue = [0, 70]')]"
      ]
     },
     "execution_count": 68,
     "metadata": {},
     "output_type": "execute_result"
    },
    {
     "data": {
      "image/png": "[encoded data removed]",
      "text/plain": [
       "<Figure size 1440x1152 with 1 Axes>"
      ]
     },
     "metadata": {
      "needs_background": "light"
     },
     "output_type": "display_data"
    }
   ],
   "source": [
    "clf_b = tree.DecisionTreeClassifier()\n",
    "clf_b = clf_b.fit(x_train_b, y_train_b)\n",
    "\n",
    "plt.figure(figsize=(20,16))\n",
    "tree.plot_tree(clf_b) "
   ]
  },
  {
   "cell_type": "code",
   "execution_count": 69,
   "metadata": {},
   "outputs": [
    {
     "name": "stdout",
     "output_type": "stream",
     "text": [
      "Accuracy: 1.0\n",
      "              precision    recall  f1-score   support\n",
      "\n",
      "      Die(1)       1.00      1.00      1.00        47\n",
      "     Live(2)       1.00      1.00      1.00        46\n",
      "\n",
      "    accuracy                           1.00        93\n",
      "   macro avg       1.00      1.00      1.00        93\n",
      "weighted avg       1.00      1.00      1.00        93\n",
      "\n"
     ]
    }
   ],
   "source": [
    "y_pred = clf_b.predict(x_test_b)\n",
    "class_names = ['Die(1)','Live(2)']\n",
    "print(\"Accuracy:\",metrics.accuracy_score(y_test_b, y_pred))\n",
    "\n",
    "print(classification_report(y_test_b,y_pred,target_names=class_names))"
   ]
  },
  {
   "cell_type": "code",
   "execution_count": 70,
   "metadata": {},
   "outputs": [
    {
     "data": {
      "text/plain": [
       "1.0"
      ]
     },
     "execution_count": 70,
     "metadata": {},
     "output_type": "execute_result"
    }
   ],
   "source": [
    "recall_score(y_test, y_pred, average='macro')"
   ]
  },
  {
   "cell_type": "code",
   "execution_count": 71,
   "metadata": {},
   "outputs": [
    {
     "name": "stdout",
     "output_type": "stream",
     "text": [
      "100.0\n",
      "100.0\n",
      "100.0\n",
      "100.0\n",
      "100.0\n",
      "100.0\n",
      "100.0\n",
      "100.0\n",
      "100.0\n",
      "100.0\n",
      "100.0\n",
      "100.0\n",
      "100.0\n",
      "100.0\n",
      "100.0\n",
      "100.0\n",
      "100.0\n",
      "100.0\n",
      "its 2 for 100.0\n"
     ]
    }
   ],
   "source": [
    "score_acc=[]\n",
    "for i in range(2,20):\n",
    "    accuracy = cross_val_score(clf_b, x_train_b, y_train_b, scoring='accuracy', cv = i)\n",
    "    print(accuracy.mean()*100)\n",
    "    #get the mean of each fold \n",
    "    a = accuracy.mean() * 100\n",
    "    score_acc.append(a)\n",
    "b = max(score_acc)\n",
    "o = score_acc.index(b)\n",
    "print('its',o+2,'for',b)"
   ]
  },
  {
   "cell_type": "code",
   "execution_count": 72,
   "metadata": {},
   "outputs": [
    {
     "data": {
      "image/png": "[encoded data removed]",
      "text/plain": [
       "<Figure size 864x432 with 1 Axes>"
      ]
     },
     "metadata": {
      "needs_background": "light"
     },
     "output_type": "display_data"
    }
   ],
   "source": [
    "print_kfold_fig(score_acc)"
   ]
  },
  {
   "cell_type": "code",
   "execution_count": null,
   "metadata": {},
   "outputs": [],
   "source": []
  },
  {
   "cell_type": "code",
   "execution_count": null,
   "metadata": {},
   "outputs": [],
   "source": []
  }
 ],
 "metadata": {
  "kernelspec": {
   "display_name": "Python 3",
   "language": "python",
   "name": "python3"
  },
  "language_info": {
   "codemirror_mode": {
    "name": "ipython",
    "version": 3
   },
   "file_extension": ".py",
   "mimetype": "text/x-python",
   "name": "python",
   "nbconvert_exporter": "python",
   "pygments_lexer": "ipython3",
   "version": "3.7.6"
  }
 },
 "nbformat": 4,
 "nbformat_minor": 2
}
